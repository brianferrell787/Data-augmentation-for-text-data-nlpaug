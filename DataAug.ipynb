{
  "nbformat": 4,
  "nbformat_minor": 0,
  "metadata": {
    "colab": {
      "name": "DataAug.ipynb",
      "provenance": [],
      "collapsed_sections": [],
      "machine_shape": "hm",
      "include_colab_link": true
    },
    "kernelspec": {
      "name": "python3",
      "display_name": "Python 3"
    },
    "accelerator": "GPU",
    "widgets": {
      "application/vnd.jupyter.widget-state+json": {
        "107b3f9d8f754f34844a88b4df07aee5": {
          "model_module": "@jupyter-widgets/controls",
          "model_name": "HBoxModel",
          "state": {
            "_view_name": "HBoxView",
            "_dom_classes": [],
            "_model_name": "HBoxModel",
            "_view_module": "@jupyter-widgets/controls",
            "_model_module_version": "1.5.0",
            "_view_count": null,
            "_view_module_version": "1.5.0",
            "box_style": "",
            "layout": "IPY_MODEL_059471d123ca4c06b5103fb0036acd04",
            "_model_module": "@jupyter-widgets/controls",
            "children": [
              "IPY_MODEL_5c7ddddfb84048909a0ce4dcc9b05174",
              "IPY_MODEL_b66769b79f4c4a4396298ecc1f31292e"
            ]
          }
        },
        "059471d123ca4c06b5103fb0036acd04": {
          "model_module": "@jupyter-widgets/base",
          "model_name": "LayoutModel",
          "state": {
            "_view_name": "LayoutView",
            "grid_template_rows": null,
            "right": null,
            "justify_content": null,
            "_view_module": "@jupyter-widgets/base",
            "overflow": null,
            "_model_module_version": "1.2.0",
            "_view_count": null,
            "flex_flow": null,
            "width": null,
            "min_width": null,
            "border": null,
            "align_items": null,
            "bottom": null,
            "_model_module": "@jupyter-widgets/base",
            "top": null,
            "grid_column": null,
            "overflow_y": null,
            "overflow_x": null,
            "grid_auto_flow": null,
            "grid_area": null,
            "grid_template_columns": null,
            "flex": null,
            "_model_name": "LayoutModel",
            "justify_items": null,
            "grid_row": null,
            "max_height": null,
            "align_content": null,
            "visibility": null,
            "align_self": null,
            "height": null,
            "min_height": null,
            "padding": null,
            "grid_auto_rows": null,
            "grid_gap": null,
            "max_width": null,
            "order": null,
            "_view_module_version": "1.2.0",
            "grid_template_areas": null,
            "object_position": null,
            "object_fit": null,
            "grid_auto_columns": null,
            "margin": null,
            "display": null,
            "left": null
          }
        },
        "5c7ddddfb84048909a0ce4dcc9b05174": {
          "model_module": "@jupyter-widgets/controls",
          "model_name": "FloatProgressModel",
          "state": {
            "_view_name": "ProgressView",
            "style": "IPY_MODEL_7d4e5b75b0a441f5bffd7926de2303f9",
            "_dom_classes": [],
            "description": "Downloading: 100%",
            "_model_name": "FloatProgressModel",
            "bar_style": "success",
            "max": 231508,
            "_view_module": "@jupyter-widgets/controls",
            "_model_module_version": "1.5.0",
            "value": 231508,
            "_view_count": null,
            "_view_module_version": "1.5.0",
            "orientation": "horizontal",
            "min": 0,
            "description_tooltip": null,
            "_model_module": "@jupyter-widgets/controls",
            "layout": "IPY_MODEL_4db5c7932dd24134a30ee0857290734c"
          }
        },
        "b66769b79f4c4a4396298ecc1f31292e": {
          "model_module": "@jupyter-widgets/controls",
          "model_name": "HTMLModel",
          "state": {
            "_view_name": "HTMLView",
            "style": "IPY_MODEL_35bc6a08c89849b88502ae3e001f5c24",
            "_dom_classes": [],
            "description": "",
            "_model_name": "HTMLModel",
            "placeholder": "​",
            "_view_module": "@jupyter-widgets/controls",
            "_model_module_version": "1.5.0",
            "value": " 232k/232k [00:00&lt;00:00, 2.79MB/s]",
            "_view_count": null,
            "_view_module_version": "1.5.0",
            "description_tooltip": null,
            "_model_module": "@jupyter-widgets/controls",
            "layout": "IPY_MODEL_0994e45b8a66460ab677b3380440eca4"
          }
        },
        "7d4e5b75b0a441f5bffd7926de2303f9": {
          "model_module": "@jupyter-widgets/controls",
          "model_name": "ProgressStyleModel",
          "state": {
            "_view_name": "StyleView",
            "_model_name": "ProgressStyleModel",
            "description_width": "initial",
            "_view_module": "@jupyter-widgets/base",
            "_model_module_version": "1.5.0",
            "_view_count": null,
            "_view_module_version": "1.2.0",
            "bar_color": null,
            "_model_module": "@jupyter-widgets/controls"
          }
        },
        "4db5c7932dd24134a30ee0857290734c": {
          "model_module": "@jupyter-widgets/base",
          "model_name": "LayoutModel",
          "state": {
            "_view_name": "LayoutView",
            "grid_template_rows": null,
            "right": null,
            "justify_content": null,
            "_view_module": "@jupyter-widgets/base",
            "overflow": null,
            "_model_module_version": "1.2.0",
            "_view_count": null,
            "flex_flow": null,
            "width": null,
            "min_width": null,
            "border": null,
            "align_items": null,
            "bottom": null,
            "_model_module": "@jupyter-widgets/base",
            "top": null,
            "grid_column": null,
            "overflow_y": null,
            "overflow_x": null,
            "grid_auto_flow": null,
            "grid_area": null,
            "grid_template_columns": null,
            "flex": null,
            "_model_name": "LayoutModel",
            "justify_items": null,
            "grid_row": null,
            "max_height": null,
            "align_content": null,
            "visibility": null,
            "align_self": null,
            "height": null,
            "min_height": null,
            "padding": null,
            "grid_auto_rows": null,
            "grid_gap": null,
            "max_width": null,
            "order": null,
            "_view_module_version": "1.2.0",
            "grid_template_areas": null,
            "object_position": null,
            "object_fit": null,
            "grid_auto_columns": null,
            "margin": null,
            "display": null,
            "left": null
          }
        },
        "35bc6a08c89849b88502ae3e001f5c24": {
          "model_module": "@jupyter-widgets/controls",
          "model_name": "DescriptionStyleModel",
          "state": {
            "_view_name": "StyleView",
            "_model_name": "DescriptionStyleModel",
            "description_width": "",
            "_view_module": "@jupyter-widgets/base",
            "_model_module_version": "1.5.0",
            "_view_count": null,
            "_view_module_version": "1.2.0",
            "_model_module": "@jupyter-widgets/controls"
          }
        },
        "0994e45b8a66460ab677b3380440eca4": {
          "model_module": "@jupyter-widgets/base",
          "model_name": "LayoutModel",
          "state": {
            "_view_name": "LayoutView",
            "grid_template_rows": null,
            "right": null,
            "justify_content": null,
            "_view_module": "@jupyter-widgets/base",
            "overflow": null,
            "_model_module_version": "1.2.0",
            "_view_count": null,
            "flex_flow": null,
            "width": null,
            "min_width": null,
            "border": null,
            "align_items": null,
            "bottom": null,
            "_model_module": "@jupyter-widgets/base",
            "top": null,
            "grid_column": null,
            "overflow_y": null,
            "overflow_x": null,
            "grid_auto_flow": null,
            "grid_area": null,
            "grid_template_columns": null,
            "flex": null,
            "_model_name": "LayoutModel",
            "justify_items": null,
            "grid_row": null,
            "max_height": null,
            "align_content": null,
            "visibility": null,
            "align_self": null,
            "height": null,
            "min_height": null,
            "padding": null,
            "grid_auto_rows": null,
            "grid_gap": null,
            "max_width": null,
            "order": null,
            "_view_module_version": "1.2.0",
            "grid_template_areas": null,
            "object_position": null,
            "object_fit": null,
            "grid_auto_columns": null,
            "margin": null,
            "display": null,
            "left": null
          }
        },
        "414c4d1435cb4455aedacae3257b7f54": {
          "model_module": "@jupyter-widgets/controls",
          "model_name": "HBoxModel",
          "state": {
            "_view_name": "HBoxView",
            "_dom_classes": [],
            "_model_name": "HBoxModel",
            "_view_module": "@jupyter-widgets/controls",
            "_model_module_version": "1.5.0",
            "_view_count": null,
            "_view_module_version": "1.5.0",
            "box_style": "",
            "layout": "IPY_MODEL_002426312e814d87b9c749d235db8df1",
            "_model_module": "@jupyter-widgets/controls",
            "children": [
              "IPY_MODEL_f2cad2857db54d6d854aaa4c878edf18",
              "IPY_MODEL_c0299295426f49a49d5a2fcab1cf2d37"
            ]
          }
        },
        "002426312e814d87b9c749d235db8df1": {
          "model_module": "@jupyter-widgets/base",
          "model_name": "LayoutModel",
          "state": {
            "_view_name": "LayoutView",
            "grid_template_rows": null,
            "right": null,
            "justify_content": null,
            "_view_module": "@jupyter-widgets/base",
            "overflow": null,
            "_model_module_version": "1.2.0",
            "_view_count": null,
            "flex_flow": null,
            "width": null,
            "min_width": null,
            "border": null,
            "align_items": null,
            "bottom": null,
            "_model_module": "@jupyter-widgets/base",
            "top": null,
            "grid_column": null,
            "overflow_y": null,
            "overflow_x": null,
            "grid_auto_flow": null,
            "grid_area": null,
            "grid_template_columns": null,
            "flex": null,
            "_model_name": "LayoutModel",
            "justify_items": null,
            "grid_row": null,
            "max_height": null,
            "align_content": null,
            "visibility": null,
            "align_self": null,
            "height": null,
            "min_height": null,
            "padding": null,
            "grid_auto_rows": null,
            "grid_gap": null,
            "max_width": null,
            "order": null,
            "_view_module_version": "1.2.0",
            "grid_template_areas": null,
            "object_position": null,
            "object_fit": null,
            "grid_auto_columns": null,
            "margin": null,
            "display": null,
            "left": null
          }
        },
        "f2cad2857db54d6d854aaa4c878edf18": {
          "model_module": "@jupyter-widgets/controls",
          "model_name": "FloatProgressModel",
          "state": {
            "_view_name": "ProgressView",
            "style": "IPY_MODEL_22ce25e8b2b042238a983352c28c16ea",
            "_dom_classes": [],
            "description": "Downloading: 100%",
            "_model_name": "FloatProgressModel",
            "bar_style": "success",
            "max": 442,
            "_view_module": "@jupyter-widgets/controls",
            "_model_module_version": "1.5.0",
            "value": 442,
            "_view_count": null,
            "_view_module_version": "1.5.0",
            "orientation": "horizontal",
            "min": 0,
            "description_tooltip": null,
            "_model_module": "@jupyter-widgets/controls",
            "layout": "IPY_MODEL_77d407affb354a8ead3d28950501f718"
          }
        },
        "c0299295426f49a49d5a2fcab1cf2d37": {
          "model_module": "@jupyter-widgets/controls",
          "model_name": "HTMLModel",
          "state": {
            "_view_name": "HTMLView",
            "style": "IPY_MODEL_c67cde9c26f1471e86e81c130e064145",
            "_dom_classes": [],
            "description": "",
            "_model_name": "HTMLModel",
            "placeholder": "​",
            "_view_module": "@jupyter-widgets/controls",
            "_model_module_version": "1.5.0",
            "value": " 442/442 [00:19&lt;00:00, 22.3B/s]",
            "_view_count": null,
            "_view_module_version": "1.5.0",
            "description_tooltip": null,
            "_model_module": "@jupyter-widgets/controls",
            "layout": "IPY_MODEL_fd3b9e58e24942c8a46039ed6a7adaca"
          }
        },
        "22ce25e8b2b042238a983352c28c16ea": {
          "model_module": "@jupyter-widgets/controls",
          "model_name": "ProgressStyleModel",
          "state": {
            "_view_name": "StyleView",
            "_model_name": "ProgressStyleModel",
            "description_width": "initial",
            "_view_module": "@jupyter-widgets/base",
            "_model_module_version": "1.5.0",
            "_view_count": null,
            "_view_module_version": "1.2.0",
            "bar_color": null,
            "_model_module": "@jupyter-widgets/controls"
          }
        },
        "77d407affb354a8ead3d28950501f718": {
          "model_module": "@jupyter-widgets/base",
          "model_name": "LayoutModel",
          "state": {
            "_view_name": "LayoutView",
            "grid_template_rows": null,
            "right": null,
            "justify_content": null,
            "_view_module": "@jupyter-widgets/base",
            "overflow": null,
            "_model_module_version": "1.2.0",
            "_view_count": null,
            "flex_flow": null,
            "width": null,
            "min_width": null,
            "border": null,
            "align_items": null,
            "bottom": null,
            "_model_module": "@jupyter-widgets/base",
            "top": null,
            "grid_column": null,
            "overflow_y": null,
            "overflow_x": null,
            "grid_auto_flow": null,
            "grid_area": null,
            "grid_template_columns": null,
            "flex": null,
            "_model_name": "LayoutModel",
            "justify_items": null,
            "grid_row": null,
            "max_height": null,
            "align_content": null,
            "visibility": null,
            "align_self": null,
            "height": null,
            "min_height": null,
            "padding": null,
            "grid_auto_rows": null,
            "grid_gap": null,
            "max_width": null,
            "order": null,
            "_view_module_version": "1.2.0",
            "grid_template_areas": null,
            "object_position": null,
            "object_fit": null,
            "grid_auto_columns": null,
            "margin": null,
            "display": null,
            "left": null
          }
        },
        "c67cde9c26f1471e86e81c130e064145": {
          "model_module": "@jupyter-widgets/controls",
          "model_name": "DescriptionStyleModel",
          "state": {
            "_view_name": "StyleView",
            "_model_name": "DescriptionStyleModel",
            "description_width": "",
            "_view_module": "@jupyter-widgets/base",
            "_model_module_version": "1.5.0",
            "_view_count": null,
            "_view_module_version": "1.2.0",
            "_model_module": "@jupyter-widgets/controls"
          }
        },
        "fd3b9e58e24942c8a46039ed6a7adaca": {
          "model_module": "@jupyter-widgets/base",
          "model_name": "LayoutModel",
          "state": {
            "_view_name": "LayoutView",
            "grid_template_rows": null,
            "right": null,
            "justify_content": null,
            "_view_module": "@jupyter-widgets/base",
            "overflow": null,
            "_model_module_version": "1.2.0",
            "_view_count": null,
            "flex_flow": null,
            "width": null,
            "min_width": null,
            "border": null,
            "align_items": null,
            "bottom": null,
            "_model_module": "@jupyter-widgets/base",
            "top": null,
            "grid_column": null,
            "overflow_y": null,
            "overflow_x": null,
            "grid_auto_flow": null,
            "grid_area": null,
            "grid_template_columns": null,
            "flex": null,
            "_model_name": "LayoutModel",
            "justify_items": null,
            "grid_row": null,
            "max_height": null,
            "align_content": null,
            "visibility": null,
            "align_self": null,
            "height": null,
            "min_height": null,
            "padding": null,
            "grid_auto_rows": null,
            "grid_gap": null,
            "max_width": null,
            "order": null,
            "_view_module_version": "1.2.0",
            "grid_template_areas": null,
            "object_position": null,
            "object_fit": null,
            "grid_auto_columns": null,
            "margin": null,
            "display": null,
            "left": null
          }
        },
        "953a079ed3a240d39ae3d7464ee40acd": {
          "model_module": "@jupyter-widgets/controls",
          "model_name": "HBoxModel",
          "state": {
            "_view_name": "HBoxView",
            "_dom_classes": [],
            "_model_name": "HBoxModel",
            "_view_module": "@jupyter-widgets/controls",
            "_model_module_version": "1.5.0",
            "_view_count": null,
            "_view_module_version": "1.5.0",
            "box_style": "",
            "layout": "IPY_MODEL_99f18000c27148feb67847466217b77c",
            "_model_module": "@jupyter-widgets/controls",
            "children": [
              "IPY_MODEL_aa37eae58a8f4f538dbcba4f6535eb82",
              "IPY_MODEL_7b801140a1c24b4f9ae9c345d77f99ba"
            ]
          }
        },
        "99f18000c27148feb67847466217b77c": {
          "model_module": "@jupyter-widgets/base",
          "model_name": "LayoutModel",
          "state": {
            "_view_name": "LayoutView",
            "grid_template_rows": null,
            "right": null,
            "justify_content": null,
            "_view_module": "@jupyter-widgets/base",
            "overflow": null,
            "_model_module_version": "1.2.0",
            "_view_count": null,
            "flex_flow": null,
            "width": null,
            "min_width": null,
            "border": null,
            "align_items": null,
            "bottom": null,
            "_model_module": "@jupyter-widgets/base",
            "top": null,
            "grid_column": null,
            "overflow_y": null,
            "overflow_x": null,
            "grid_auto_flow": null,
            "grid_area": null,
            "grid_template_columns": null,
            "flex": null,
            "_model_name": "LayoutModel",
            "justify_items": null,
            "grid_row": null,
            "max_height": null,
            "align_content": null,
            "visibility": null,
            "align_self": null,
            "height": null,
            "min_height": null,
            "padding": null,
            "grid_auto_rows": null,
            "grid_gap": null,
            "max_width": null,
            "order": null,
            "_view_module_version": "1.2.0",
            "grid_template_areas": null,
            "object_position": null,
            "object_fit": null,
            "grid_auto_columns": null,
            "margin": null,
            "display": null,
            "left": null
          }
        },
        "aa37eae58a8f4f538dbcba4f6535eb82": {
          "model_module": "@jupyter-widgets/controls",
          "model_name": "FloatProgressModel",
          "state": {
            "_view_name": "ProgressView",
            "style": "IPY_MODEL_37fa41e0eb454347992c659e12ccf326",
            "_dom_classes": [],
            "description": "Downloading: 100%",
            "_model_name": "FloatProgressModel",
            "bar_style": "success",
            "max": 267967963,
            "_view_module": "@jupyter-widgets/controls",
            "_model_module_version": "1.5.0",
            "value": 267967963,
            "_view_count": null,
            "_view_module_version": "1.5.0",
            "orientation": "horizontal",
            "min": 0,
            "description_tooltip": null,
            "_model_module": "@jupyter-widgets/controls",
            "layout": "IPY_MODEL_073da67520794d82bea6b78fce8c3a61"
          }
        },
        "7b801140a1c24b4f9ae9c345d77f99ba": {
          "model_module": "@jupyter-widgets/controls",
          "model_name": "HTMLModel",
          "state": {
            "_view_name": "HTMLView",
            "style": "IPY_MODEL_92e5919132754d73a23a68190a7eea62",
            "_dom_classes": [],
            "description": "",
            "_model_name": "HTMLModel",
            "placeholder": "​",
            "_view_module": "@jupyter-widgets/controls",
            "_model_module_version": "1.5.0",
            "value": " 268M/268M [00:19&lt;00:00, 13.7MB/s]",
            "_view_count": null,
            "_view_module_version": "1.5.0",
            "description_tooltip": null,
            "_model_module": "@jupyter-widgets/controls",
            "layout": "IPY_MODEL_4ae049122f7240b2a46e7a3325035d50"
          }
        },
        "37fa41e0eb454347992c659e12ccf326": {
          "model_module": "@jupyter-widgets/controls",
          "model_name": "ProgressStyleModel",
          "state": {
            "_view_name": "StyleView",
            "_model_name": "ProgressStyleModel",
            "description_width": "initial",
            "_view_module": "@jupyter-widgets/base",
            "_model_module_version": "1.5.0",
            "_view_count": null,
            "_view_module_version": "1.2.0",
            "bar_color": null,
            "_model_module": "@jupyter-widgets/controls"
          }
        },
        "073da67520794d82bea6b78fce8c3a61": {
          "model_module": "@jupyter-widgets/base",
          "model_name": "LayoutModel",
          "state": {
            "_view_name": "LayoutView",
            "grid_template_rows": null,
            "right": null,
            "justify_content": null,
            "_view_module": "@jupyter-widgets/base",
            "overflow": null,
            "_model_module_version": "1.2.0",
            "_view_count": null,
            "flex_flow": null,
            "width": null,
            "min_width": null,
            "border": null,
            "align_items": null,
            "bottom": null,
            "_model_module": "@jupyter-widgets/base",
            "top": null,
            "grid_column": null,
            "overflow_y": null,
            "overflow_x": null,
            "grid_auto_flow": null,
            "grid_area": null,
            "grid_template_columns": null,
            "flex": null,
            "_model_name": "LayoutModel",
            "justify_items": null,
            "grid_row": null,
            "max_height": null,
            "align_content": null,
            "visibility": null,
            "align_self": null,
            "height": null,
            "min_height": null,
            "padding": null,
            "grid_auto_rows": null,
            "grid_gap": null,
            "max_width": null,
            "order": null,
            "_view_module_version": "1.2.0",
            "grid_template_areas": null,
            "object_position": null,
            "object_fit": null,
            "grid_auto_columns": null,
            "margin": null,
            "display": null,
            "left": null
          }
        },
        "92e5919132754d73a23a68190a7eea62": {
          "model_module": "@jupyter-widgets/controls",
          "model_name": "DescriptionStyleModel",
          "state": {
            "_view_name": "StyleView",
            "_model_name": "DescriptionStyleModel",
            "description_width": "",
            "_view_module": "@jupyter-widgets/base",
            "_model_module_version": "1.5.0",
            "_view_count": null,
            "_view_module_version": "1.2.0",
            "_model_module": "@jupyter-widgets/controls"
          }
        },
        "4ae049122f7240b2a46e7a3325035d50": {
          "model_module": "@jupyter-widgets/base",
          "model_name": "LayoutModel",
          "state": {
            "_view_name": "LayoutView",
            "grid_template_rows": null,
            "right": null,
            "justify_content": null,
            "_view_module": "@jupyter-widgets/base",
            "overflow": null,
            "_model_module_version": "1.2.0",
            "_view_count": null,
            "flex_flow": null,
            "width": null,
            "min_width": null,
            "border": null,
            "align_items": null,
            "bottom": null,
            "_model_module": "@jupyter-widgets/base",
            "top": null,
            "grid_column": null,
            "overflow_y": null,
            "overflow_x": null,
            "grid_auto_flow": null,
            "grid_area": null,
            "grid_template_columns": null,
            "flex": null,
            "_model_name": "LayoutModel",
            "justify_items": null,
            "grid_row": null,
            "max_height": null,
            "align_content": null,
            "visibility": null,
            "align_self": null,
            "height": null,
            "min_height": null,
            "padding": null,
            "grid_auto_rows": null,
            "grid_gap": null,
            "max_width": null,
            "order": null,
            "_view_module_version": "1.2.0",
            "grid_template_areas": null,
            "object_position": null,
            "object_fit": null,
            "grid_auto_columns": null,
            "margin": null,
            "display": null,
            "left": null
          }
        }
      }
    }
  },
  "cells": [
    {
      "cell_type": "markdown",
      "metadata": {
        "id": "view-in-github",
        "colab_type": "text"
      },
      "source": [
        "<a href=\"https://colab.research.google.com/github/brianferrell787/Data-augmentation-for-text-data-nlpaug/blob/master/DataAug.ipynb\" target=\"_parent\"><img src=\"https://colab.research.google.com/assets/colab-badge.svg\" alt=\"Open In Colab\"/></a>"
      ]
    },
    {
      "cell_type": "markdown",
      "metadata": {
        "id": "ATlrOQVXh-1Y",
        "colab_type": "text"
      },
      "source": [
        "#**Data Augmentation for text data**"
      ]
    },
    {
      "cell_type": "code",
      "metadata": {
        "id": "GbtPeGd_3-s6",
        "colab_type": "code",
        "colab": {
          "resources": {
            "http://localhost:8080/nbextensions/google.colab/files.js": {
              "data": "Ly8gQ29weXJpZ2h0IDIwMTcgR29vZ2xlIExMQwovLwovLyBMaWNlbnNlZCB1bmRlciB0aGUgQXBhY2hlIExpY2Vuc2UsIFZlcnNpb24gMi4wICh0aGUgIkxpY2Vuc2UiKTsKLy8geW91IG1heSBub3QgdXNlIHRoaXMgZmlsZSBleGNlcHQgaW4gY29tcGxpYW5jZSB3aXRoIHRoZSBMaWNlbnNlLgovLyBZb3UgbWF5IG9idGFpbiBhIGNvcHkgb2YgdGhlIExpY2Vuc2UgYXQKLy8KLy8gICAgICBodHRwOi8vd3d3LmFwYWNoZS5vcmcvbGljZW5zZXMvTElDRU5TRS0yLjAKLy8KLy8gVW5sZXNzIHJlcXVpcmVkIGJ5IGFwcGxpY2FibGUgbGF3IG9yIGFncmVlZCB0byBpbiB3cml0aW5nLCBzb2Z0d2FyZQovLyBkaXN0cmlidXRlZCB1bmRlciB0aGUgTGljZW5zZSBpcyBkaXN0cmlidXRlZCBvbiBhbiAiQVMgSVMiIEJBU0lTLAovLyBXSVRIT1VUIFdBUlJBTlRJRVMgT1IgQ09ORElUSU9OUyBPRiBBTlkgS0lORCwgZWl0aGVyIGV4cHJlc3Mgb3IgaW1wbGllZC4KLy8gU2VlIHRoZSBMaWNlbnNlIGZvciB0aGUgc3BlY2lmaWMgbGFuZ3VhZ2UgZ292ZXJuaW5nIHBlcm1pc3Npb25zIGFuZAovLyBsaW1pdGF0aW9ucyB1bmRlciB0aGUgTGljZW5zZS4KCi8qKgogKiBAZmlsZW92ZXJ2aWV3IEhlbHBlcnMgZm9yIGdvb2dsZS5jb2xhYiBQeXRob24gbW9kdWxlLgogKi8KKGZ1bmN0aW9uKHNjb3BlKSB7CmZ1bmN0aW9uIHNwYW4odGV4dCwgc3R5bGVBdHRyaWJ1dGVzID0ge30pIHsKICBjb25zdCBlbGVtZW50ID0gZG9jdW1lbnQuY3JlYXRlRWxlbWVudCgnc3BhbicpOwogIGVsZW1lbnQudGV4dENvbnRlbnQgPSB0ZXh0OwogIGZvciAoY29uc3Qga2V5IG9mIE9iamVjdC5rZXlzKHN0eWxlQXR0cmlidXRlcykpIHsKICAgIGVsZW1lbnQuc3R5bGVba2V5XSA9IHN0eWxlQXR0cmlidXRlc1trZXldOwogIH0KICByZXR1cm4gZWxlbWVudDsKfQoKLy8gTWF4IG51bWJlciBvZiBieXRlcyB3aGljaCB3aWxsIGJlIHVwbG9hZGVkIGF0IGEgdGltZS4KY29uc3QgTUFYX1BBWUxPQURfU0laRSA9IDEwMCAqIDEwMjQ7CgpmdW5jdGlvbiBfdXBsb2FkRmlsZXMoaW5wdXRJZCwgb3V0cHV0SWQpIHsKICBjb25zdCBzdGVwcyA9IHVwbG9hZEZpbGVzU3RlcChpbnB1dElkLCBvdXRwdXRJZCk7CiAgY29uc3Qgb3V0cHV0RWxlbWVudCA9IGRvY3VtZW50LmdldEVsZW1lbnRCeUlkKG91dHB1dElkKTsKICAvLyBDYWNoZSBzdGVwcyBvbiB0aGUgb3V0cHV0RWxlbWVudCB0byBtYWtlIGl0IGF2YWlsYWJsZSBmb3IgdGhlIG5leHQgY2FsbAogIC8vIHRvIHVwbG9hZEZpbGVzQ29udGludWUgZnJvbSBQeXRob24uCiAgb3V0cHV0RWxlbWVudC5zdGVwcyA9IHN0ZXBzOwoKICByZXR1cm4gX3VwbG9hZEZpbGVzQ29udGludWUob3V0cHV0SWQpOwp9CgovLyBUaGlzIGlzIHJvdWdobHkgYW4gYXN5bmMgZ2VuZXJhdG9yIChub3Qgc3VwcG9ydGVkIGluIHRoZSBicm93c2VyIHlldCksCi8vIHdoZXJlIHRoZXJlIGFyZSBtdWx0aXBsZSBhc3luY2hyb25vdXMgc3RlcHMgYW5kIHRoZSBQeXRob24gc2lkZSBpcyBnb2luZwovLyB0byBwb2xsIGZvciBjb21wbGV0aW9uIG9mIGVhY2ggc3RlcC4KLy8gVGhpcyB1c2VzIGEgUHJvbWlzZSB0byBibG9jayB0aGUgcHl0aG9uIHNpZGUgb24gY29tcGxldGlvbiBvZiBlYWNoIHN0ZXAsCi8vIHRoZW4gcGFzc2VzIHRoZSByZXN1bHQgb2YgdGhlIHByZXZpb3VzIHN0ZXAgYXMgdGhlIGlucHV0IHRvIHRoZSBuZXh0IHN0ZXAuCmZ1bmN0aW9uIF91cGxvYWRGaWxlc0NvbnRpbnVlKG91dHB1dElkKSB7CiAgY29uc3Qgb3V0cHV0RWxlbWVudCA9IGRvY3VtZW50LmdldEVsZW1lbnRCeUlkKG91dHB1dElkKTsKICBjb25zdCBzdGVwcyA9IG91dHB1dEVsZW1lbnQuc3RlcHM7CgogIGNvbnN0IG5leHQgPSBzdGVwcy5uZXh0KG91dHB1dEVsZW1lbnQubGFzdFByb21pc2VWYWx1ZSk7CiAgcmV0dXJuIFByb21pc2UucmVzb2x2ZShuZXh0LnZhbHVlLnByb21pc2UpLnRoZW4oKHZhbHVlKSA9PiB7CiAgICAvLyBDYWNoZSB0aGUgbGFzdCBwcm9taXNlIHZhbHVlIHRvIG1ha2UgaXQgYXZhaWxhYmxlIHRvIHRoZSBuZXh0CiAgICAvLyBzdGVwIG9mIHRoZSBnZW5lcmF0b3IuCiAgICBvdXRwdXRFbGVtZW50Lmxhc3RQcm9taXNlVmFsdWUgPSB2YWx1ZTsKICAgIHJldHVybiBuZXh0LnZhbHVlLnJlc3BvbnNlOwogIH0pOwp9CgovKioKICogR2VuZXJhdG9yIGZ1bmN0aW9uIHdoaWNoIGlzIGNhbGxlZCBiZXR3ZWVuIGVhY2ggYXN5bmMgc3RlcCBvZiB0aGUgdXBsb2FkCiAqIHByb2Nlc3MuCiAqIEBwYXJhbSB7c3RyaW5nfSBpbnB1dElkIEVsZW1lbnQgSUQgb2YgdGhlIGlucHV0IGZpbGUgcGlja2VyIGVsZW1lbnQuCiAqIEBwYXJhbSB7c3RyaW5nfSBvdXRwdXRJZCBFbGVtZW50IElEIG9mIHRoZSBvdXRwdXQgZGlzcGxheS4KICogQHJldHVybiB7IUl0ZXJhYmxlPCFPYmplY3Q+fSBJdGVyYWJsZSBvZiBuZXh0IHN0ZXBzLgogKi8KZnVuY3Rpb24qIHVwbG9hZEZpbGVzU3RlcChpbnB1dElkLCBvdXRwdXRJZCkgewogIGNvbnN0IGlucHV0RWxlbWVudCA9IGRvY3VtZW50LmdldEVsZW1lbnRCeUlkKGlucHV0SWQpOwogIGlucHV0RWxlbWVudC5kaXNhYmxlZCA9IGZhbHNlOwoKICBjb25zdCBvdXRwdXRFbGVtZW50ID0gZG9jdW1lbnQuZ2V0RWxlbWVudEJ5SWQob3V0cHV0SWQpOwogIG91dHB1dEVsZW1lbnQuaW5uZXJIVE1MID0gJyc7CgogIGNvbnN0IHBpY2tlZFByb21pc2UgPSBuZXcgUHJvbWlzZSgocmVzb2x2ZSkgPT4gewogICAgaW5wdXRFbGVtZW50LmFkZEV2ZW50TGlzdGVuZXIoJ2NoYW5nZScsIChlKSA9PiB7CiAgICAgIHJlc29sdmUoZS50YXJnZXQuZmlsZXMpOwogICAgfSk7CiAgfSk7CgogIGNvbnN0IGNhbmNlbCA9IGRvY3VtZW50LmNyZWF0ZUVsZW1lbnQoJ2J1dHRvbicpOwogIGlucHV0RWxlbWVudC5wYXJlbnRFbGVtZW50LmFwcGVuZENoaWxkKGNhbmNlbCk7CiAgY2FuY2VsLnRleHRDb250ZW50ID0gJ0NhbmNlbCB1cGxvYWQnOwogIGNvbnN0IGNhbmNlbFByb21pc2UgPSBuZXcgUHJvbWlzZSgocmVzb2x2ZSkgPT4gewogICAgY2FuY2VsLm9uY2xpY2sgPSAoKSA9PiB7CiAgICAgIHJlc29sdmUobnVsbCk7CiAgICB9OwogIH0pOwoKICAvLyBXYWl0IGZvciB0aGUgdXNlciB0byBwaWNrIHRoZSBmaWxlcy4KICBjb25zdCBmaWxlcyA9IHlpZWxkIHsKICAgIHByb21pc2U6IFByb21pc2UucmFjZShbcGlja2VkUHJvbWlzZSwgY2FuY2VsUHJvbWlzZV0pLAogICAgcmVzcG9uc2U6IHsKICAgICAgYWN0aW9uOiAnc3RhcnRpbmcnLAogICAgfQogIH07CgogIGNhbmNlbC5yZW1vdmUoKTsKCiAgLy8gRGlzYWJsZSB0aGUgaW5wdXQgZWxlbWVudCBzaW5jZSBmdXJ0aGVyIHBpY2tzIGFyZSBub3QgYWxsb3dlZC4KICBpbnB1dEVsZW1lbnQuZGlzYWJsZWQgPSB0cnVlOwoKICBpZiAoIWZpbGVzKSB7CiAgICByZXR1cm4gewogICAgICByZXNwb25zZTogewogICAgICAgIGFjdGlvbjogJ2NvbXBsZXRlJywKICAgICAgfQogICAgfTsKICB9CgogIGZvciAoY29uc3QgZmlsZSBvZiBmaWxlcykgewogICAgY29uc3QgbGkgPSBkb2N1bWVudC5jcmVhdGVFbGVtZW50KCdsaScpOwogICAgbGkuYXBwZW5kKHNwYW4oZmlsZS5uYW1lLCB7Zm9udFdlaWdodDogJ2JvbGQnfSkpOwogICAgbGkuYXBwZW5kKHNwYW4oCiAgICAgICAgYCgke2ZpbGUudHlwZSB8fCAnbi9hJ30pIC0gJHtmaWxlLnNpemV9IGJ5dGVzLCBgICsKICAgICAgICBgbGFzdCBtb2RpZmllZDogJHsKICAgICAgICAgICAgZmlsZS5sYXN0TW9kaWZpZWREYXRlID8gZmlsZS5sYXN0TW9kaWZpZWREYXRlLnRvTG9jYWxlRGF0ZVN0cmluZygpIDoKICAgICAgICAgICAgICAgICAgICAgICAgICAgICAgICAgICAgJ24vYSd9IC0gYCkpOwogICAgY29uc3QgcGVyY2VudCA9IHNwYW4oJzAlIGRvbmUnKTsKICAgIGxpLmFwcGVuZENoaWxkKHBlcmNlbnQpOwoKICAgIG91dHB1dEVsZW1lbnQuYXBwZW5kQ2hpbGQobGkpOwoKICAgIGNvbnN0IGZpbGVEYXRhUHJvbWlzZSA9IG5ldyBQcm9taXNlKChyZXNvbHZlKSA9PiB7CiAgICAgIGNvbnN0IHJlYWRlciA9IG5ldyBGaWxlUmVhZGVyKCk7CiAgICAgIHJlYWRlci5vbmxvYWQgPSAoZSkgPT4gewogICAgICAgIHJlc29sdmUoZS50YXJnZXQucmVzdWx0KTsKICAgICAgfTsKICAgICAgcmVhZGVyLnJlYWRBc0FycmF5QnVmZmVyKGZpbGUpOwogICAgfSk7CiAgICAvLyBXYWl0IGZvciB0aGUgZGF0YSB0byBiZSByZWFkeS4KICAgIGxldCBmaWxlRGF0YSA9IHlpZWxkIHsKICAgICAgcHJvbWlzZTogZmlsZURhdGFQcm9taXNlLAogICAgICByZXNwb25zZTogewogICAgICAgIGFjdGlvbjogJ2NvbnRpbnVlJywKICAgICAgfQogICAgfTsKCiAgICAvLyBVc2UgYSBjaHVua2VkIHNlbmRpbmcgdG8gYXZvaWQgbWVzc2FnZSBzaXplIGxpbWl0cy4gU2VlIGIvNjIxMTU2NjAuCiAgICBsZXQgcG9zaXRpb24gPSAwOwogICAgd2hpbGUgKHBvc2l0aW9uIDwgZmlsZURhdGEuYnl0ZUxlbmd0aCkgewogICAgICBjb25zdCBsZW5ndGggPSBNYXRoLm1pbihmaWxlRGF0YS5ieXRlTGVuZ3RoIC0gcG9zaXRpb24sIE1BWF9QQVlMT0FEX1NJWkUpOwogICAgICBjb25zdCBjaHVuayA9IG5ldyBVaW50OEFycmF5KGZpbGVEYXRhLCBwb3NpdGlvbiwgbGVuZ3RoKTsKICAgICAgcG9zaXRpb24gKz0gbGVuZ3RoOwoKICAgICAgY29uc3QgYmFzZTY0ID0gYnRvYShTdHJpbmcuZnJvbUNoYXJDb2RlLmFwcGx5KG51bGwsIGNodW5rKSk7CiAgICAgIHlpZWxkIHsKICAgICAgICByZXNwb25zZTogewogICAgICAgICAgYWN0aW9uOiAnYXBwZW5kJywKICAgICAgICAgIGZpbGU6IGZpbGUubmFtZSwKICAgICAgICAgIGRhdGE6IGJhc2U2NCwKICAgICAgICB9LAogICAgICB9OwogICAgICBwZXJjZW50LnRleHRDb250ZW50ID0KICAgICAgICAgIGAke01hdGgucm91bmQoKHBvc2l0aW9uIC8gZmlsZURhdGEuYnl0ZUxlbmd0aCkgKiAxMDApfSUgZG9uZWA7CiAgICB9CiAgfQoKICAvLyBBbGwgZG9uZS4KICB5aWVsZCB7CiAgICByZXNwb25zZTogewogICAgICBhY3Rpb246ICdjb21wbGV0ZScsCiAgICB9CiAgfTsKfQoKc2NvcGUuZ29vZ2xlID0gc2NvcGUuZ29vZ2xlIHx8IHt9OwpzY29wZS5nb29nbGUuY29sYWIgPSBzY29wZS5nb29nbGUuY29sYWIgfHwge307CnNjb3BlLmdvb2dsZS5jb2xhYi5fZmlsZXMgPSB7CiAgX3VwbG9hZEZpbGVzLAogIF91cGxvYWRGaWxlc0NvbnRpbnVlLAp9Owp9KShzZWxmKTsK",
              "ok": true,
              "headers": [
                [
                  "content-type",
                  "application/javascript"
                ]
              ],
              "status": 200,
              "status_text": ""
            }
          },
          "base_uri": "https://localhost:8080/",
          "height": 89
        },
        "outputId": "c3cba704-dc2b-40b3-f715-c24d0ee3372b"
      },
      "source": [
        "import pandas as pd\n",
        "from google.colab import files\n",
        "uploaded = files.upload()\n",
        "for fn in uploaded.keys():\n",
        "  print('User uploaded file \"{name}\" with length {length} bytes'.format(\n",
        "      name=fn, length=len(uploaded[fn])))"
      ],
      "execution_count": null,
      "outputs": [
        {
          "output_type": "display_data",
          "data": {
            "text/html": [
              "\n",
              "     <input type=\"file\" id=\"files-945a4711-c3b2-46ca-9486-4fa9b667efcb\" name=\"files[]\" multiple disabled\n",
              "        style=\"border:none\" />\n",
              "     <output id=\"result-945a4711-c3b2-46ca-9486-4fa9b667efcb\">\n",
              "      Upload widget is only available when the cell has been executed in the\n",
              "      current browser session. Please rerun this cell to enable.\n",
              "      </output>\n",
              "      <script src=\"/nbextensions/google.colab/files.js\"></script> "
            ],
            "text/plain": [
              "<IPython.core.display.HTML object>"
            ]
          },
          "metadata": {
            "tags": []
          }
        },
        {
          "output_type": "stream",
          "text": [
            "Saving withoutholdout.xlsx to withoutholdout.xlsx\n",
            "User uploaded file \"withoutholdout.xlsx\" with length 1628382 bytes\n"
          ],
          "name": "stdout"
        }
      ]
    },
    {
      "cell_type": "markdown",
      "metadata": {
        "id": "jO-0bG3wiJoB",
        "colab_type": "text"
      },
      "source": [
        "**Install what is needed**"
      ]
    },
    {
      "cell_type": "code",
      "metadata": {
        "id": "ZIVI0KW64iZk",
        "colab_type": "code",
        "colab": {
          "base_uri": "https://localhost:8080/",
          "height": 255
        },
        "outputId": "659d42ce-45f0-432c-ef92-625ccebbaf74"
      },
      "source": [
        "!pip install nlpaug numpy matplotlib python-dotenv\n"
      ],
      "execution_count": null,
      "outputs": [
        {
          "output_type": "stream",
          "text": [
            "Collecting nlpaug\n",
            "\u001b[?25l  Downloading https://files.pythonhosted.org/packages/1f/6c/ca85b6bd29926561229e8c9f677c36c65db9ef1947bfc175e6641bc82ace/nlpaug-0.0.14-py3-none-any.whl (101kB)\n",
            "\r\u001b[K     |███▎                            | 10kB 28.0MB/s eta 0:00:01\r\u001b[K     |██████▌                         | 20kB 1.6MB/s eta 0:00:01\r\u001b[K     |█████████▊                      | 30kB 1.9MB/s eta 0:00:01\r\u001b[K     |█████████████                   | 40kB 2.2MB/s eta 0:00:01\r\u001b[K     |████████████████▏               | 51kB 2.0MB/s eta 0:00:01\r\u001b[K     |███████████████████▍            | 61kB 2.2MB/s eta 0:00:01\r\u001b[K     |██████████████████████▋         | 71kB 2.4MB/s eta 0:00:01\r\u001b[K     |█████████████████████████▉      | 81kB 2.6MB/s eta 0:00:01\r\u001b[K     |█████████████████████████████   | 92kB 2.5MB/s eta 0:00:01\r\u001b[K     |████████████████████████████████| 102kB 2.3MB/s \n",
            "\u001b[?25hRequirement already satisfied: numpy in /usr/local/lib/python3.6/dist-packages (1.18.5)\n",
            "Requirement already satisfied: matplotlib in /usr/local/lib/python3.6/dist-packages (3.2.2)\n",
            "Collecting python-dotenv\n",
            "  Downloading https://files.pythonhosted.org/packages/f2/16/28d434b28c5be29a6af8fd0e3a2bda3bd30500ef0cd17bc79f7a6793a8d4/python_dotenv-0.14.0-py2.py3-none-any.whl\n",
            "Requirement already satisfied: cycler>=0.10 in /usr/local/lib/python3.6/dist-packages (from matplotlib) (0.10.0)\n",
            "Requirement already satisfied: pyparsing!=2.0.4,!=2.1.2,!=2.1.6,>=2.0.1 in /usr/local/lib/python3.6/dist-packages (from matplotlib) (2.4.7)\n",
            "Requirement already satisfied: python-dateutil>=2.1 in /usr/local/lib/python3.6/dist-packages (from matplotlib) (2.8.1)\n",
            "Requirement already satisfied: kiwisolver>=1.0.1 in /usr/local/lib/python3.6/dist-packages (from matplotlib) (1.2.0)\n",
            "Requirement already satisfied: six in /usr/local/lib/python3.6/dist-packages (from cycler>=0.10->matplotlib) (1.12.0)\n",
            "Installing collected packages: nlpaug, python-dotenv\n",
            "Successfully installed nlpaug-0.0.14 python-dotenv-0.14.0\n"
          ],
          "name": "stdout"
        }
      ]
    },
    {
      "cell_type": "code",
      "metadata": {
        "id": "b_1Qm2-R4idM",
        "colab_type": "code",
        "colab": {}
      },
      "source": [
        "pip install torch>=1.2.0 transformers>=2.5.0\n"
      ],
      "execution_count": null,
      "outputs": []
    },
    {
      "cell_type": "code",
      "metadata": {
        "id": "5VxQuZVx6eMU",
        "colab_type": "code",
        "colab": {
          "base_uri": "https://localhost:8080/",
          "height": 255
        },
        "outputId": "2010149c-6b89-4c4e-8365-46137d124953"
      },
      "source": [
        "!pip install nltk==3.4.5"
      ],
      "execution_count": null,
      "outputs": [
        {
          "output_type": "stream",
          "text": [
            "Collecting nltk==3.4.5\n",
            "\u001b[?25l  Downloading https://files.pythonhosted.org/packages/f6/1d/d925cfb4f324ede997f6d47bea4d9babba51b49e87a767c170b77005889d/nltk-3.4.5.zip (1.5MB)\n",
            "\u001b[K     |████████████████████████████████| 1.5MB 2.8MB/s \n",
            "\u001b[?25hRequirement already satisfied: six in /usr/local/lib/python3.6/dist-packages (from nltk==3.4.5) (1.12.0)\n",
            "Building wheels for collected packages: nltk\n",
            "  Building wheel for nltk (setup.py) ... \u001b[?25l\u001b[?25hdone\n",
            "  Created wheel for nltk: filename=nltk-3.4.5-cp36-none-any.whl size=1449908 sha256=3d085fa13fe507adf1d20dd75bce0eac6a7b79993d5536faa23d3f17e406ede8\n",
            "  Stored in directory: /root/.cache/pip/wheels/96/86/f6/68ab24c23f207c0077381a5e3904b2815136b879538a24b483\n",
            "Successfully built nltk\n",
            "Installing collected packages: nltk\n",
            "  Found existing installation: nltk 3.2.5\n",
            "    Uninstalling nltk-3.2.5:\n",
            "      Successfully uninstalled nltk-3.2.5\n",
            "Successfully installed nltk-3.4.5\n"
          ],
          "name": "stdout"
        }
      ]
    },
    {
      "cell_type": "markdown",
      "metadata": {
        "id": "KPR6s1pKiP0g",
        "colab_type": "text"
      },
      "source": [
        "**Upload data and preprocessing steps**"
      ]
    },
    {
      "cell_type": "code",
      "metadata": {
        "id": "WFr2gUSE5pTs",
        "colab_type": "code",
        "colab": {
          "base_uri": "https://localhost:8080/",
          "height": 419
        },
        "outputId": "1d183aff-cb20-49d3-b634-6bc71218c220"
      },
      "source": [
        "import pandas as pd\n",
        "\n",
        "train_df = pd.read_excel('withoutholdout.xlsx' )\n",
        "train_df"
      ],
      "execution_count": null,
      "outputs": [
        {
          "output_type": "execute_result",
          "data": {
            "text/html": [
              "<div>\n",
              "<style scoped>\n",
              "    .dataframe tbody tr th:only-of-type {\n",
              "        vertical-align: middle;\n",
              "    }\n",
              "\n",
              "    .dataframe tbody tr th {\n",
              "        vertical-align: top;\n",
              "    }\n",
              "\n",
              "    .dataframe thead th {\n",
              "        text-align: right;\n",
              "    }\n",
              "</style>\n",
              "<table border=\"1\" class=\"dataframe\">\n",
              "  <thead>\n",
              "    <tr style=\"text-align: right;\">\n",
              "      <th></th>\n",
              "      <th>ID</th>\n",
              "      <th>AimsGoal</th>\n",
              "      <th>Hypothesis</th>\n",
              "      <th>Background</th>\n",
              "      <th>Study Design</th>\n",
              "      <th>Class</th>\n",
              "    </tr>\n",
              "  </thead>\n",
              "  <tbody>\n",
              "    <tr>\n",
              "      <th>0</th>\n",
              "      <td>HM20013139</td>\n",
              "      <td>Identifying and Prioritizing Patient Goals Bef...</td>\n",
              "      <td>The primary aim of this pilot feasibility stud...</td>\n",
              "      <td>Total Knee Replacement (TKR) surgery is consid...</td>\n",
              "      <td>Design Overview:Pilot feasibility study Sample...</td>\n",
              "      <td>0</td>\n",
              "    </tr>\n",
              "    <tr>\n",
              "      <th>1</th>\n",
              "      <td>HM20003563</td>\n",
              "      <td>The Impact of Home Modifications on the Safety...</td>\n",
              "      <td>Participants will report increased performance...</td>\n",
              "      <td>The vast majority of United States homeowners ...</td>\n",
              "      <td>The study will be conducted in collaboration w...</td>\n",
              "      <td>3</td>\n",
              "    </tr>\n",
              "    <tr>\n",
              "      <th>2</th>\n",
              "      <td>HM20014813</td>\n",
              "      <td>Cultural Diversity Within Schools Survey , The...</td>\n",
              "      <td>The research questions guiding this study are:...</td>\n",
              "      <td>The purpose of this survey is to better unders...</td>\n",
              "      <td>Study design: The proposed study will use a su...</td>\n",
              "      <td>3</td>\n",
              "    </tr>\n",
              "    <tr>\n",
              "      <th>3</th>\n",
              "      <td>HM20010722</td>\n",
              "      <td>Stakeholder Perspectives on Social Needs Scree...</td>\n",
              "      <td>Research questionsHow do parents of children w...</td>\n",
              "      <td>Approximately 10% of children under age 5 have...</td>\n",
              "      <td>The overarching, tiered approach to identifica...</td>\n",
              "      <td>0</td>\n",
              "    </tr>\n",
              "    <tr>\n",
              "      <th>4</th>\n",
              "      <td>HM20011134</td>\n",
              "      <td>Development of Psychosocial Need Assessment fo...</td>\n",
              "      <td>The proposed study will develop a reliable, va...</td>\n",
              "      <td>Cystic fibrosis (CF) places children and adole...</td>\n",
              "      <td>The study will be longitudinal in nature, cons...</td>\n",
              "      <td>0</td>\n",
              "    </tr>\n",
              "    <tr>\n",
              "      <th>...</th>\n",
              "      <td>...</td>\n",
              "      <td>...</td>\n",
              "      <td>...</td>\n",
              "      <td>...</td>\n",
              "      <td>...</td>\n",
              "      <td>...</td>\n",
              "    </tr>\n",
              "    <tr>\n",
              "      <th>275</th>\n",
              "      <td>HM20003541</td>\n",
              "      <td>Comprehensive injury surveillance in Latin Ame...</td>\n",
              "      <td>Injury is a major cause of death and disabilit...</td>\n",
              "      <td>Trauma is a global epidemic. Approximately 5 m...</td>\n",
              "      <td>This will be a retrospective and prospective c...</td>\n",
              "      <td>1</td>\n",
              "    </tr>\n",
              "    <tr>\n",
              "      <th>276</th>\n",
              "      <td>HM20003768</td>\n",
              "      <td>Phase I drug interaction and self-administrati...</td>\n",
              "      <td>Aim 1: To provide safety and PK information on...</td>\n",
              "      <td>Cocaine use disorder (formerly cocaine depende...</td>\n",
              "      <td>I. Summary of the protocol a. Brief descriptio...</td>\n",
              "      <td>0</td>\n",
              "    </tr>\n",
              "    <tr>\n",
              "      <th>277</th>\n",
              "      <td>HM20004455</td>\n",
              "      <td>The Exploration of an Afrocentric Mentoring Pa...</td>\n",
              "      <td>This study will examine African American male ...</td>\n",
              "      <td>African American at riskö youth face a perilou...</td>\n",
              "      <td>Participants This is a case study in which the...</td>\n",
              "      <td>3</td>\n",
              "    </tr>\n",
              "    <tr>\n",
              "      <th>278</th>\n",
              "      <td>HM20009314</td>\n",
              "      <td>RESIDENT AND STAFF PERCEPTIONS OF SAFETY AND E...</td>\n",
              "      <td>The goal of this project is to examine percept...</td>\n",
              "      <td>In the past several years, therapeutic treatme...</td>\n",
              "      <td>To further explore youths perceptions of safet...</td>\n",
              "      <td>3</td>\n",
              "    </tr>\n",
              "    <tr>\n",
              "      <th>279</th>\n",
              "      <td>HM20006601</td>\n",
              "      <td>Invisible Victimsö No Longer: LGBTQ+ Dating an...</td>\n",
              "      <td>The purpose of this study is to gather informa...</td>\n",
              "      <td>The perpetration of interpersonal violence aga...</td>\n",
              "      <td>This project will utilize a community-based pa...</td>\n",
              "      <td>3</td>\n",
              "    </tr>\n",
              "  </tbody>\n",
              "</table>\n",
              "<p>280 rows × 6 columns</p>\n",
              "</div>"
            ],
            "text/plain": [
              "             ID  ... Class\n",
              "0    HM20013139  ...     0\n",
              "1    HM20003563  ...     3\n",
              "2    HM20014813  ...     3\n",
              "3    HM20010722  ...     0\n",
              "4    HM20011134  ...     0\n",
              "..          ...  ...   ...\n",
              "275  HM20003541  ...     1\n",
              "276  HM20003768  ...     0\n",
              "277  HM20004455  ...     3\n",
              "278  HM20009314  ...     3\n",
              "279  HM20006601  ...     3\n",
              "\n",
              "[280 rows x 6 columns]"
            ]
          },
          "metadata": {
            "tags": []
          },
          "execution_count": 5
        }
      ]
    },
    {
      "cell_type": "code",
      "metadata": {
        "id": "czUDtSS75pZt",
        "colab_type": "code",
        "colab": {}
      },
      "source": [
        "#Get rid of Null values \n",
        "train_df=train_df.fillna(\"\")"
      ],
      "execution_count": null,
      "outputs": []
    },
    {
      "cell_type": "code",
      "metadata": {
        "id": "iXUOUeHqgNnZ",
        "colab_type": "code",
        "colab": {}
      },
      "source": [
        "#This purpose of this is to augment every individual class so I can keep things a bit more organized \n",
        "zeros = train_df.loc[train_df['Class'] == 0] \n",
        "\n",
        "ones = train_df.loc[train_df['Class'] == 1] \n",
        "\n",
        "twos = train_df.loc[train_df['Class'] == 2] \n",
        "\n",
        "threes = train_df.loc[train_df['Class'] == 3] \n",
        "\n",
        "fours = train_df.loc[train_df['Class'] == 4] \n",
        "\n",
        "fives = train_df.loc[train_df['Class'] == 5] \n"
      ],
      "execution_count": null,
      "outputs": []
    },
    {
      "cell_type": "code",
      "metadata": {
        "id": "gp6pDgTBiyad",
        "colab_type": "code",
        "colab": {
          "base_uri": "https://localhost:8080/",
          "height": 639
        },
        "outputId": "089730c1-3a83-42b4-d3ba-6298eddfe11a"
      },
      "source": [
        "fives"
      ],
      "execution_count": null,
      "outputs": [
        {
          "output_type": "execute_result",
          "data": {
            "text/html": [
              "<div>\n",
              "<style scoped>\n",
              "    .dataframe tbody tr th:only-of-type {\n",
              "        vertical-align: middle;\n",
              "    }\n",
              "\n",
              "    .dataframe tbody tr th {\n",
              "        vertical-align: top;\n",
              "    }\n",
              "\n",
              "    .dataframe thead th {\n",
              "        text-align: right;\n",
              "    }\n",
              "</style>\n",
              "<table border=\"1\" class=\"dataframe\">\n",
              "  <thead>\n",
              "    <tr style=\"text-align: right;\">\n",
              "      <th></th>\n",
              "      <th>ID</th>\n",
              "      <th>AimsGoal</th>\n",
              "      <th>Hypothesis</th>\n",
              "      <th>Background</th>\n",
              "      <th>Study Design</th>\n",
              "      <th>Class</th>\n",
              "      <th>New</th>\n",
              "    </tr>\n",
              "  </thead>\n",
              "  <tbody>\n",
              "    <tr>\n",
              "      <th>8</th>\n",
              "      <td>HM20014553</td>\n",
              "      <td>East End Consumer Health Outreach and Computer...</td>\n",
              "      <td>Participants receiving health literacy outreac...</td>\n",
              "      <td>At 12% proficiency, U.S. health literacy sets ...</td>\n",
              "      <td>Consistent with a community-based participator...</td>\n",
              "      <td>5</td>\n",
              "      <td>East End Consumer Health Outreach and Computer...</td>\n",
              "    </tr>\n",
              "    <tr>\n",
              "      <th>10</th>\n",
              "      <td>HM15125</td>\n",
              "      <td>Community Health Educator: Promoting Cancer Ed...</td>\n",
              "      <td>The Crater Health District which encompasses P...</td>\n",
              "      <td>Petersburg, the region of focus of outreach an...</td>\n",
              "      <td>Training community members to transmit health ...</td>\n",
              "      <td>5</td>\n",
              "      <td>Community Health Educator: Promoting Cancer Ed...</td>\n",
              "    </tr>\n",
              "    <tr>\n",
              "      <th>28</th>\n",
              "      <td>HM20002902</td>\n",
              "      <td>Preparing Knowledgeable, Skilled, and Responsi...</td>\n",
              "      <td>Hypothesis:?A focused personnel preparation pr...</td>\n",
              "      <td>Although a number of factors influence the qua...</td>\n",
              "      <td>The study will use a comprehensive mixed metho...</td>\n",
              "      <td>5</td>\n",
              "      <td>Preparing Knowledgeable, Skilled, and Responsi...</td>\n",
              "    </tr>\n",
              "    <tr>\n",
              "      <th>33</th>\n",
              "      <td>HM20008188</td>\n",
              "      <td>Whole-School Literacy in an Urban Middle Schoo...</td>\n",
              "      <td>This study will examine the process and result...</td>\n",
              "      <td>The study was instigated by a request made by ...</td>\n",
              "      <td>In keeping with the nature of the data, the co...</td>\n",
              "      <td>5</td>\n",
              "      <td>Whole-School Literacy in an Urban Middle Schoo...</td>\n",
              "    </tr>\n",
              "    <tr>\n",
              "      <th>80</th>\n",
              "      <td>HM20002005</td>\n",
              "      <td>Building a Research Agenda Driven by the Needs...</td>\n",
              "      <td>What are the research-related needs of LGBTQ y...</td>\n",
              "      <td>Significance Beginning in the 1980s, two trend...</td>\n",
              "      <td>Participants will be identified from attendees...</td>\n",
              "      <td>5</td>\n",
              "      <td>Building a Research Agenda Driven by the Needs...</td>\n",
              "    </tr>\n",
              "    <tr>\n",
              "      <th>163</th>\n",
              "      <td>HM20007648</td>\n",
              "      <td>MITI Meals: A Hands-On Approach to Nourishing ...</td>\n",
              "      <td>This study's primary research question is, is ...</td>\n",
              "      <td>This VCU team has worked together since 2004 t...</td>\n",
              "      <td>MITI Meals will recruit 15 families from lower...</td>\n",
              "      <td>5</td>\n",
              "      <td>MITI Meals: A Hands-On Approach to Nourishing ...</td>\n",
              "    </tr>\n",
              "    <tr>\n",
              "      <th>166</th>\n",
              "      <td>HM20002876</td>\n",
              "      <td>Inclusion Project: Surveys to Schools in Virgi...</td>\n",
              "      <td>H1: The Inclusion Project will raise awareness...</td>\n",
              "      <td>Inclusion Project is a three-year project fund...</td>\n",
              "      <td>In conjunction with project staff, the Evaluat...</td>\n",
              "      <td>5</td>\n",
              "      <td>Inclusion Project: Surveys to Schools in Virgi...</td>\n",
              "    </tr>\n",
              "    <tr>\n",
              "      <th>183</th>\n",
              "      <td>HM20010240</td>\n",
              "      <td>RVA Breathes , The research team is located at...</td>\n",
              "      <td>The goal of this U01 application is to evaluat...</td>\n",
              "      <td>Despite the existence of evidence-based asthma...</td>\n",
              "      <td>Our program represents a change from tradition...</td>\n",
              "      <td>5</td>\n",
              "      <td>RVA Breathes , The research team is located at...</td>\n",
              "    </tr>\n",
              "    <tr>\n",
              "      <th>193</th>\n",
              "      <td>HM20014303</td>\n",
              "      <td>A community-based study using oral tradition t...</td>\n",
              "      <td>The study will explore the impact of a nuanced...</td>\n",
              "      <td>African-American (Black) women have disproport...</td>\n",
              "      <td>During a 6-month study period, research person...</td>\n",
              "      <td>5</td>\n",
              "      <td>A community-based study using oral tradition t...</td>\n",
              "    </tr>\n",
              "    <tr>\n",
              "      <th>217</th>\n",
              "      <td>HM20000249</td>\n",
              "      <td>The Process of Partnership: An Exploratory Stu...</td>\n",
              "      <td>What attributes of community partnerships are ...</td>\n",
              "      <td>Social science researchers have a long history...</td>\n",
              "      <td>The data for this study has already been colle...</td>\n",
              "      <td>5</td>\n",
              "      <td>The Process of Partnership: An Exploratory Stu...</td>\n",
              "    </tr>\n",
              "    <tr>\n",
              "      <th>226</th>\n",
              "      <td>HM20015914</td>\n",
              "      <td>Building Capacity for Children's Participation...</td>\n",
              "      <td>This study will use an interpretivist, qualita...</td>\n",
              "      <td>Despite legislative mandates supporting childr...</td>\n",
              "      <td>Study Design: This is a qualitative interpreti...</td>\n",
              "      <td>5</td>\n",
              "      <td>Building Capacity for Children's Participation...</td>\n",
              "    </tr>\n",
              "    <tr>\n",
              "      <th>232</th>\n",
              "      <td>HM20007337</td>\n",
              "      <td>Community Partner Experience with Richmond Hea...</td>\n",
              "      <td>This study will examine perspectives of commun...</td>\n",
              "      <td>Pressured by an aging and increasingly complex...</td>\n",
              "      <td>Qualitative interviews will be used in this st...</td>\n",
              "      <td>5</td>\n",
              "      <td>Community Partner Experience with Richmond Hea...</td>\n",
              "    </tr>\n",
              "    <tr>\n",
              "      <th>238</th>\n",
              "      <td>HM20005209</td>\n",
              "      <td>LGBTQ Youth-Serving Organizations: National Ne...</td>\n",
              "      <td>What are the research and evaluation-related n...</td>\n",
              "      <td>Significance Beginning in the 1980s, two trend...</td>\n",
              "      <td>Over the past year (beginning in the summer of...</td>\n",
              "      <td>5</td>\n",
              "      <td>LGBTQ Youth-Serving Organizations: National Ne...</td>\n",
              "    </tr>\n",
              "  </tbody>\n",
              "</table>\n",
              "</div>"
            ],
            "text/plain": [
              "             ID  ...                                                New\n",
              "8    HM20014553  ...  East End Consumer Health Outreach and Computer...\n",
              "10      HM15125  ...  Community Health Educator: Promoting Cancer Ed...\n",
              "28   HM20002902  ...  Preparing Knowledgeable, Skilled, and Responsi...\n",
              "33   HM20008188  ...  Whole-School Literacy in an Urban Middle Schoo...\n",
              "80   HM20002005  ...  Building a Research Agenda Driven by the Needs...\n",
              "163  HM20007648  ...  MITI Meals: A Hands-On Approach to Nourishing ...\n",
              "166  HM20002876  ...  Inclusion Project: Surveys to Schools in Virgi...\n",
              "183  HM20010240  ...  RVA Breathes , The research team is located at...\n",
              "193  HM20014303  ...  A community-based study using oral tradition t...\n",
              "217  HM20000249  ...  The Process of Partnership: An Exploratory Stu...\n",
              "226  HM20015914  ...  Building Capacity for Children's Participation...\n",
              "232  HM20007337  ...  Community Partner Experience with Richmond Hea...\n",
              "238  HM20005209  ...  LGBTQ Youth-Serving Organizations: National Ne...\n",
              "\n",
              "[13 rows x 7 columns]"
            ]
          },
          "metadata": {
            "tags": []
          },
          "execution_count": 9
        }
      ]
    },
    {
      "cell_type": "code",
      "metadata": {
        "id": "L9Hg21dM9FOM",
        "colab_type": "code",
        "colab": {
          "base_uri": "https://localhost:8080/",
          "height": 102
        },
        "outputId": "67813fa3-3a89-4801-de66-0cff792184fd"
      },
      "source": [
        "# NLTK\n",
        "import nltk\n",
        "import re\n",
        "import string\n",
        "import numpy as np\n",
        "import pandas as pd \n",
        "from nltk.corpus import stopwords\n",
        "from nltk.stem import SnowballStemmer\n",
        "from nltk.stem import WordNetLemmatizer \n",
        "nltk.download('wordnet')\n",
        "nltk.download('stopwords')"
      ],
      "execution_count": null,
      "outputs": [
        {
          "output_type": "stream",
          "text": [
            "[nltk_data] Downloading package wordnet to /root/nltk_data...\n",
            "[nltk_data]   Unzipping corpora/wordnet.zip.\n",
            "[nltk_data] Downloading package stopwords to /root/nltk_data...\n",
            "[nltk_data]   Unzipping corpora/stopwords.zip.\n"
          ],
          "name": "stderr"
        },
        {
          "output_type": "execute_result",
          "data": {
            "text/plain": [
              "True"
            ]
          },
          "metadata": {
            "tags": []
          },
          "execution_count": 10
        }
      ]
    },
    {
      "cell_type": "code",
      "metadata": {
        "id": "GH7cpD-7GPtZ",
        "colab_type": "code",
        "colab": {
          "base_uri": "https://localhost:8080/",
          "height": 54
        },
        "outputId": "c547664b-2291-4093-9d15-d799da934e08"
      },
      "source": [
        "print(stopwords.words('english'))"
      ],
      "execution_count": null,
      "outputs": [
        {
          "output_type": "stream",
          "text": [
            "['i', 'me', 'my', 'myself', 'we', 'our', 'ours', 'ourselves', 'you', \"you're\", \"you've\", \"you'll\", \"you'd\", 'your', 'yours', 'yourself', 'yourselves', 'he', 'him', 'his', 'himself', 'she', \"she's\", 'her', 'hers', 'herself', 'it', \"it's\", 'its', 'itself', 'they', 'them', 'their', 'theirs', 'themselves', 'what', 'which', 'who', 'whom', 'this', 'that', \"that'll\", 'these', 'those', 'am', 'is', 'are', 'was', 'were', 'be', 'been', 'being', 'have', 'has', 'had', 'having', 'do', 'does', 'did', 'doing', 'a', 'an', 'the', 'and', 'but', 'if', 'or', 'because', 'as', 'until', 'while', 'of', 'at', 'by', 'for', 'with', 'about', 'against', 'between', 'into', 'through', 'during', 'before', 'after', 'above', 'below', 'to', 'from', 'up', 'down', 'in', 'out', 'on', 'off', 'over', 'under', 'again', 'further', 'then', 'once', 'here', 'there', 'when', 'where', 'why', 'how', 'all', 'any', 'both', 'each', 'few', 'more', 'most', 'other', 'some', 'such', 'no', 'nor', 'not', 'only', 'own', 'same', 'so', 'than', 'too', 'very', 's', 't', 'can', 'will', 'just', 'don', \"don't\", 'should', \"should've\", 'now', 'd', 'll', 'm', 'o', 're', 've', 'y', 'ain', 'aren', \"aren't\", 'couldn', \"couldn't\", 'didn', \"didn't\", 'doesn', \"doesn't\", 'hadn', \"hadn't\", 'hasn', \"hasn't\", 'haven', \"haven't\", 'isn', \"isn't\", 'ma', 'mightn', \"mightn't\", 'mustn', \"mustn't\", 'needn', \"needn't\", 'shan', \"shan't\", 'shouldn', \"shouldn't\", 'wasn', \"wasn't\", 'weren', \"weren't\", 'won', \"won't\", 'wouldn', \"wouldn't\"]\n"
          ],
          "name": "stdout"
        }
      ]
    },
    {
      "cell_type": "code",
      "metadata": {
        "id": "mDUneU66Gmvw",
        "colab_type": "code",
        "colab": {}
      },
      "source": [
        "Stopwords = ['i', 'me', 'my', 'myself', 'we', 'our', 'ours', 'ourselves', 'you', \"you're\", \"you've\", \"you'll\", \"you'd\", 'your', 'yours', 'yourself', 'yourselves', 'he', 'him', 'his', 'himself', 'she', \"she's\", 'her', 'hers', 'herself', 'it', \"it's\", 'its', 'itself', 'they', 'them', 'their', 'theirs', 'themselves', 'what', 'which', 'who', 'whom', 'this', 'that', \"that'll\", 'these', 'those', 'am', 'is', 'are', 'was', 'were', 'be', 'been', 'being', 'have', 'has', 'had', 'having', 'do', 'does', 'did', 'doing', 'a', 'an', 'the', 'and', 'but', 'if', 'or', 'because', 'as', 'until', 'while', 'of', 'at', 'by', 'for', 'with', 'about', 'against', 'between', 'into', 'through', 'during', 'before', 'after', 'above', 'below', 'to', 'from', 'up', 'down', 'in', 'out', 'on', 'off', 'over', 'under', 'again', 'further', 'then', 'once', 'here', 'there', 'when', 'where', 'why', 'how', 'all', 'any', 'both', 'each', 'few', 'more', 'most', 'other', 'some', 'such', 'no', 'nor', 'not', 'only', 'own', 'same', 'so', 'than', 'too', 'very', 's', 't', 'can', 'will', 'just', 'don', \"don't\", 'should', \"should've\", 'now', 'd', 'll', 'm', 'o', 're', 've', 'y', 'ain', 'aren', \"aren't\", 'couldn', \"couldn't\", 'didn', \"didn't\", 'doesn', \"doesn't\", 'hadn', \"hadn't\", 'hasn', \"hasn't\", 'haven', \"haven't\", 'isn', \"isn't\", 'ma', 'mightn', \"mightn't\", 'mustn', \"mustn't\", 'needn', \"needn't\", 'shan', \"shan't\", 'shouldn', \"shouldn't\", 'wasn', \"wasn't\", 'weren', \"weren't\", 'won', \"won't\", 'wouldn', \"wouldn't\"]"
      ],
      "execution_count": null,
      "outputs": []
    },
    {
      "cell_type": "code",
      "metadata": {
        "id": "jq_RhUls5phL",
        "colab_type": "code",
        "colab": {}
      },
      "source": [
        "#Import packages \n",
        "import nlpaug.augmenter.char as nac\n",
        "import nlpaug.augmenter.word as naw\n",
        "import nlpaug.augmenter.sentence as nas\n",
        "import nlpaug.flow as naf\n",
        "\n",
        "from nlpaug.util import Action"
      ],
      "execution_count": null,
      "outputs": []
    },
    {
      "cell_type": "code",
      "metadata": {
        "id": "RdP1Glos5pYG",
        "colab_type": "code",
        "colab": {}
      },
      "source": [
        "# I didn't use this because I used BERT so check Documentation for other ways to do this. Bert was faster and better for context I believe \n",
        "from nlpaug.util.file.download import DownloadUtil\n",
        "DownloadUtil.download_glove(model_name='glove.6B', dest_dir='.')  # Download GloVe model\n"
      ],
      "execution_count": null,
      "outputs": []
    },
    {
      "cell_type": "markdown",
      "metadata": {
        "id": "Z-1gQz-Ij1Os",
        "colab_type": "text"
      },
      "source": [
        "This is using distilbert-base-uncased. I would suggest reading the documentation or Google the differences. (I use it three times because I dont think BERT can handle long sentences well so three of them helped a bit.\n",
        "\n",
        "Temperature means level of randomness you want to change the words and cuda helps it run faster. Read documentation for rest. \n",
        "\n",
        "I created different amounts of augments depending on how many I needed for each class"
      ]
    },
    {
      "cell_type": "code",
      "metadata": {
        "id": "SzWMDzIgkOaH",
        "colab_type": "code",
        "colab": {
          "base_uri": "https://localhost:8080/",
          "height": 232,
          "referenced_widgets": [
            "107b3f9d8f754f34844a88b4df07aee5",
            "059471d123ca4c06b5103fb0036acd04",
            "5c7ddddfb84048909a0ce4dcc9b05174",
            "b66769b79f4c4a4396298ecc1f31292e",
            "7d4e5b75b0a441f5bffd7926de2303f9",
            "4db5c7932dd24134a30ee0857290734c",
            "35bc6a08c89849b88502ae3e001f5c24",
            "0994e45b8a66460ab677b3380440eca4",
            "414c4d1435cb4455aedacae3257b7f54",
            "002426312e814d87b9c749d235db8df1",
            "f2cad2857db54d6d854aaa4c878edf18",
            "c0299295426f49a49d5a2fcab1cf2d37",
            "22ce25e8b2b042238a983352c28c16ea",
            "77d407affb354a8ead3d28950501f718",
            "c67cde9c26f1471e86e81c130e064145",
            "fd3b9e58e24942c8a46039ed6a7adaca",
            "953a079ed3a240d39ae3d7464ee40acd",
            "99f18000c27148feb67847466217b77c",
            "aa37eae58a8f4f538dbcba4f6535eb82",
            "7b801140a1c24b4f9ae9c345d77f99ba",
            "37fa41e0eb454347992c659e12ccf326",
            "073da67520794d82bea6b78fce8c3a61",
            "92e5919132754d73a23a68190a7eea62",
            "4ae049122f7240b2a46e7a3325035d50"
          ]
        },
        "outputId": "87fd90bb-c332-4242-961a-93d600d745fc"
      },
      "source": [
        "# NAFC ZEROS\n",
        "zerosaug = naf.Sequential([naw.ContextualWordEmbsAug(model_path='distilbert-base-uncased', action=\"substitute\",skip_unknown_word=True, temperature=0.3,aug_p=.8 ,stopwords= Stopwords,device='cuda'),\n",
        "naw.ContextualWordEmbsAug(model_path='distilbert-base-uncased', action=\"substitute\",skip_unknown_word=True, temperature=0.3,aug_p=.8 ,stopwords= Stopwords,device='cuda'),\n",
        "naw.ContextualWordEmbsAug(model_path='distilbert-base-uncased', action=\"substitute\",skip_unknown_word=True, temperature=0.3,aug_p=.8 ,stopwords= Stopwords,device='cuda'),\n",
        "naw.ContextualWordEmbsAug(model_path='distilbert-base-uncased', action=\"substitute\",skip_unknown_word=True, temperature=0.3,aug_p=.8 ,stopwords= Stopwords,device='cuda')\n",
        "])\n",
        "\n",
        "\n",
        "\n",
        "\n",
        "augmented_text0a = zerosaug.augments(zeros['AimsGoal'],n=25) \n",
        "augmented_text0b = zerosaug.augments(zeros['Hypothesis'],n=25) \n",
        "augmented_text0c = zerosaug.augments(zeros['Study Design'],n=25) \n",
        "augmented_text0d = zerosaug.augments(zeros['Background'],n=25) \n"
      ],
      "execution_count": null,
      "outputs": [
        {
          "output_type": "display_data",
          "data": {
            "application/vnd.jupyter.widget-view+json": {
              "model_id": "107b3f9d8f754f34844a88b4df07aee5",
              "version_minor": 0,
              "version_major": 2
            },
            "text/plain": [
              "HBox(children=(FloatProgress(value=0.0, description='Downloading', max=231508.0, style=ProgressStyle(descripti…"
            ]
          },
          "metadata": {
            "tags": []
          }
        },
        {
          "output_type": "stream",
          "text": [
            "\n"
          ],
          "name": "stdout"
        },
        {
          "output_type": "display_data",
          "data": {
            "application/vnd.jupyter.widget-view+json": {
              "model_id": "414c4d1435cb4455aedacae3257b7f54",
              "version_minor": 0,
              "version_major": 2
            },
            "text/plain": [
              "HBox(children=(FloatProgress(value=0.0, description='Downloading', max=442.0, style=ProgressStyle(description_…"
            ]
          },
          "metadata": {
            "tags": []
          }
        },
        {
          "output_type": "stream",
          "text": [
            "\n"
          ],
          "name": "stdout"
        },
        {
          "output_type": "display_data",
          "data": {
            "application/vnd.jupyter.widget-view+json": {
              "model_id": "953a079ed3a240d39ae3d7464ee40acd",
              "version_minor": 0,
              "version_major": 2
            },
            "text/plain": [
              "HBox(children=(FloatProgress(value=0.0, description='Downloading', max=267967963.0, style=ProgressStyle(descri…"
            ]
          },
          "metadata": {
            "tags": []
          }
        },
        {
          "output_type": "stream",
          "text": [
            "\n"
          ],
          "name": "stdout"
        },
        {
          "output_type": "stream",
          "text": [
            "/pytorch/torch/csrc/utils/python_arg_parser.cpp:756: UserWarning: This overload of nonzero is deprecated:\n",
            "\tnonzero(Tensor input, *, Tensor out)\n",
            "Consider using one of the following signatures instead:\n",
            "\tnonzero(Tensor input, *, bool as_tuple)\n"
          ],
          "name": "stderr"
        }
      ]
    },
    {
      "cell_type": "code",
      "metadata": {
        "id": "2bXKS8NxlCdM",
        "colab_type": "code",
        "colab": {}
      },
      "source": [
        "# NAFC ONES\n",
        "onesaug = naf.Sequential([naw.ContextualWordEmbsAug(model_path='distilbert-base-uncased', action=\"substitute\",skip_unknown_word=True, temperature=0.3,aug_p=.8 ,stopwords= Stopwords,device='cuda'),\n",
        "naw.ContextualWordEmbsAug(model_path='distilbert-base-uncased', action=\"substitute\",skip_unknown_word=True, temperature=0.3,aug_p=.8 ,stopwords= Stopwords,device='cuda'),\n",
        "naw.ContextualWordEmbsAug(model_path='distilbert-base-uncased', action=\"substitute\",skip_unknown_word=True, temperature=0.3,aug_p=.8 ,stopwords= Stopwords,device='cuda'),\n",
        "naw.ContextualWordEmbsAug(model_path='distilbert-base-uncased', action=\"substitute\",skip_unknown_word=True, temperature=0.3,aug_p=.8 ,stopwords= Stopwords,device='cuda')\n",
        "])\n",
        "\n",
        "augmented_text1a = onesaug.augments(ones['AimsGoal'],n=28) \n",
        "augmented_text1b = onesaug.augments(ones['Hypothesis'],n=28) \n",
        "augmented_text1c = onesaug.augments(ones['Study Design'],n=28) \n",
        "augmented_text1d = onesaug.augments(ones['Background'],n=28) "
      ],
      "execution_count": null,
      "outputs": []
    },
    {
      "cell_type": "code",
      "metadata": {
        "id": "U4N_-5_QlCoh",
        "colab_type": "code",
        "colab": {}
      },
      "source": [
        "# NAFC TWOS\n",
        "twosaug = naf.Sequential([naw.ContextualWordEmbsAug(model_path='distilbert-base-uncased', action=\"substitute\",skip_unknown_word=True, temperature=0.3,aug_p=.8 ,stopwords= Stopwords,device='cuda'),\n",
        "naw.ContextualWordEmbsAug(model_path='distilbert-base-uncased', action=\"substitute\",skip_unknown_word=True, temperature=0.3,aug_p=.8 ,stopwords= Stopwords,device='cuda'),\n",
        "naw.ContextualWordEmbsAug(model_path='distilbert-base-uncased', action=\"substitute\",skip_unknown_word=True, temperature=0.3,aug_p=.8 ,stopwords= Stopwords,device='cuda'),\n",
        "naw.ContextualWordEmbsAug(model_path='distilbert-base-uncased', action=\"substitute\",skip_unknown_word=True, temperature=0.3,aug_p=.8 ,stopwords= Stopwords,device='cuda')\n",
        "])\n",
        "\n",
        "augmented_text2a = twosaug.augments(twos['AimsGoal'],n=101) \n",
        "augmented_text2b = twosaug.augments(twos['Hypothesis'],n=101) \n",
        "augmented_text2c = twosaug.augments(twos['Study Design'],n=101) \n",
        "augmented_text2d = twosaug.augments(twos['Background'],n=101) "
      ],
      "execution_count": null,
      "outputs": []
    },
    {
      "cell_type": "code",
      "metadata": {
        "id": "_nSMTna1lCxM",
        "colab_type": "code",
        "colab": {}
      },
      "source": [
        "# NAFC THREES\n",
        "threesaug = naf.Sequential([naw.ContextualWordEmbsAug(model_path='distilbert-base-uncased', action=\"substitute\",skip_unknown_word=True, temperature=0.3,aug_p=.8 ,stopwords= Stopwords,device='cuda'),\n",
        "naw.ContextualWordEmbsAug(model_path='distilbert-base-uncased', action=\"substitute\",skip_unknown_word=True, temperature=0.3,aug_p=.8 ,stopwords= Stopwords,device='cuda'),\n",
        "naw.ContextualWordEmbsAug(model_path='distilbert-base-uncased', action=\"substitute\",skip_unknown_word=True, temperature=0.3,aug_p=.8 ,stopwords= Stopwords,device='cuda'),\n",
        "naw.ContextualWordEmbsAug(model_path='distilbert-base-uncased', action=\"substitute\",skip_unknown_word=True, temperature=0.3,aug_p=.8 ,stopwords= Stopwords,device='cuda')\n",
        "])\n",
        "\n",
        "augmented_text3a = threesaug.augments(threes['AimsGoal'],n=11) \n",
        "augmented_text3b = threesaug.augments(threes['Hypothesis'],n=11) \n",
        "augmented_text3c = threesaug.augments(threes['Study Design'],n=11) \n",
        "augmented_text3d = threesaug.augments(threes['Background'],n=11) "
      ],
      "execution_count": null,
      "outputs": []
    },
    {
      "cell_type": "code",
      "metadata": {
        "id": "yZcKQFollC7D",
        "colab_type": "code",
        "colab": {}
      },
      "source": [
        "# NAFC FOURS\n",
        "foursaug = naf.Sequential([naw.ContextualWordEmbsAug(model_path='distilbert-base-uncased', action=\"substitute\",skip_unknown_word=True, temperature=0.3,aug_p=.8 ,stopwords= Stopwords,device='cuda'),\n",
        "naw.ContextualWordEmbsAug(model_path='distilbert-base-uncased', action=\"substitute\",skip_unknown_word=True, temperature=0.3,aug_p=.8 ,stopwords= Stopwords,device='cuda'),\n",
        "naw.ContextualWordEmbsAug(model_path='distilbert-base-uncased', action=\"substitute\",skip_unknown_word=True, temperature=0.3,aug_p=.8 ,stopwords= Stopwords,device='cuda'),\n",
        "naw.ContextualWordEmbsAug(model_path='distilbert-base-uncased', action=\"substitute\",skip_unknown_word=True, temperature=0.3,aug_p=.8 ,stopwords= Stopwords,device='cuda')\n",
        "])\n",
        "\n",
        "augmented_text4a = foursaug.augments(fours['AimsGoal'],n=22) \n",
        "augmented_text4b = foursaug.augments(fours['Hypothesis'],n=22) \n",
        "augmented_text4c = foursaug.augments(fours['Study Design'],n=22) \n",
        "augmented_text4d = foursaug.augments(fours['Background'],n=22) "
      ],
      "execution_count": null,
      "outputs": []
    },
    {
      "cell_type": "code",
      "metadata": {
        "id": "uHED2-3OlDI3",
        "colab_type": "code",
        "colab": {}
      },
      "source": [
        "# NAFC FIVES\n",
        "fivesaug = naf.Sequential([naw.ContextualWordEmbsAug(model_path='distilbert-base-uncased', action=\"substitute\",skip_unknown_word=True, temperature=0.3,aug_p=.8 ,stopwords= Stopwords,device='cuda'),\n",
        "naw.ContextualWordEmbsAug(model_path='distilbert-base-uncased', action=\"substitute\",skip_unknown_word=True, temperature=0.3,aug_p=.8 ,stopwords= Stopwords,device='cuda'),\n",
        "naw.ContextualWordEmbsAug(model_path='distilbert-base-uncased', action=\"substitute\",skip_unknown_word=True, temperature=0.3,aug_p=.8 ,stopwords= Stopwords,device='cuda'),\n",
        "naw.ContextualWordEmbsAug(model_path='distilbert-base-uncased', action=\"substitute\",skip_unknown_word=True, temperature=0.3,aug_p=.8 ,stopwords= Stopwords,device='cuda')\n",
        "])\n",
        "\n",
        "augmented_text5a = fivesaug.augments(fives['AimsGoal'],n=53) \n",
        "augmented_text5b = fivesaug.augments(fives['Hypothesis'],n=53) \n",
        "augmented_text5c = fivesaug.augments(fives['Study Design'],n=53) \n",
        "augmented_text5d = fivesaug.augments(fives['Background'],n=53)  "
      ],
      "execution_count": null,
      "outputs": []
    },
    {
      "cell_type": "code",
      "metadata": {
        "id": "nKqQSib8qhje",
        "colab_type": "code",
        "colab": {}
      },
      "source": [
        "augmented_text0a = pd.DataFrame(augmented_text0a)\n",
        "augmented_text0b = pd.DataFrame(augmented_text0b)\n",
        "augmented_text0c = pd.DataFrame(augmented_text0c)\n",
        "augmented_text0d = pd.DataFrame(augmented_text0d)\n",
        "\n",
        "augmented_text1a = pd.DataFrame(augmented_text1a)\n",
        "augmented_text1b = pd.DataFrame(augmented_text1b)\n",
        "augmented_text1c = pd.DataFrame(augmented_text1c)\n",
        "augmented_text1d = pd.DataFrame(augmented_text1d)\n",
        "\n",
        "augmented_text2a = pd.DataFrame(augmented_text2a)\n",
        "augmented_text2b = pd.DataFrame(augmented_text2b)\n",
        "augmented_text2c = pd.DataFrame(augmented_text2c)\n",
        "augmented_text2d = pd.DataFrame(augmented_text2d)\n",
        "\n",
        "augmented_text3a = pd.DataFrame(augmented_text3a)\n",
        "augmented_text3b = pd.DataFrame(augmented_text3b)\n",
        "augmented_text3c = pd.DataFrame(augmented_text3c)\n",
        "augmented_text3d = pd.DataFrame(augmented_text3d)\n",
        "\n",
        "augmented_text4a = pd.DataFrame(augmented_text4a)\n",
        "augmented_text4b = pd.DataFrame(augmented_text4b)\n",
        "augmented_text4c = pd.DataFrame(augmented_text4c)\n",
        "augmented_text4d = pd.DataFrame(augmented_text4d)\n",
        "\n",
        "augmented_text5a = pd.DataFrame(augmented_text5a)\n",
        "augmented_text5b = pd.DataFrame(augmented_text5b)\n",
        "augmented_text5c = pd.DataFrame(augmented_text5c)\n",
        "augmented_text5d = pd.DataFrame(augmented_text5d)"
      ],
      "execution_count": null,
      "outputs": []
    },
    {
      "cell_type": "code",
      "metadata": {
        "id": "aHAWfzM8sHIM",
        "colab_type": "code",
        "colab": {}
      },
      "source": [
        "augdf0_t = augmented_text0a.rename(columns = {0:'AimsGoal'})\n",
        "augdf1_t = augmented_text1a.rename(columns = {0:'AimsGoal'})\n",
        "augdf2_t = augmented_text2a.rename(columns = {0:'AimsGoal'})\n",
        "augdf3_t = augmented_text3a.rename(columns = {0:'AimsGoal'})\n",
        "augdf4_t = augmented_text4a.rename(columns = {0:'AimsGoal'})\n",
        "augdf5_t = augmented_text5a.rename(columns = {0:'AimsGoal'})\n",
        "\n",
        "augdf0_t['Hypothesis'] = augmented_text0b\n",
        "augdf1_t['Hypothesis'] = augmented_text1b\n",
        "augdf2_t['Hypothesis'] = augmented_text2b\n",
        "augdf3_t['Hypothesis'] = augmented_text3b\n",
        "augdf4_t['Hypothesis'] = augmented_text4b\n",
        "augdf5_t['Hypothesis'] = augmented_text5b\n",
        "\n",
        "augdf0_t['Study Design'] = augmented_text0c\n",
        "augdf1_t['Study Design'] = augmented_text1c\n",
        "augdf2_t['Study Design'] = augmented_text2c\n",
        "augdf3_t['Study Design'] = augmented_text3c\n",
        "augdf4_t['Study Design'] = augmented_text4c\n",
        "augdf5_t['Study Design'] = augmented_text5c\n",
        "\n",
        "augdf0_t['Background'] = augmented_text0d\n",
        "augdf1_t['Background'] = augmented_text1d\n",
        "augdf2_t['Background'] = augmented_text2d\n",
        "augdf3_t['Background'] = augmented_text3d\n",
        "augdf4_t['Background'] = augmented_text4d\n",
        "augdf5_t['Background'] = augmented_text5d\n",
        "\n",
        "\n",
        "\n"
      ],
      "execution_count": null,
      "outputs": []
    },
    {
      "cell_type": "code",
      "metadata": {
        "id": "4G-W3zLV_vJX",
        "colab_type": "code",
        "colab": {
          "base_uri": "https://localhost:8080/",
          "height": 419
        },
        "outputId": "c02faa2b-fb6d-438a-b11b-eeca2916b47b"
      },
      "source": [
        "augdf0_t.fillna(\"\")\n",
        "augdf1_t.fillna(\"\")\n",
        "augdf2_t.fillna(\"\")\n",
        "augdf3_t.fillna(\"\")\n",
        "augdf4_t.fillna(\"\")\n",
        "augdf5_t.fillna(\"\")"
      ],
      "execution_count": null,
      "outputs": [
        {
          "output_type": "execute_result",
          "data": {
            "text/html": [
              "<div>\n",
              "<style scoped>\n",
              "    .dataframe tbody tr th:only-of-type {\n",
              "        vertical-align: middle;\n",
              "    }\n",
              "\n",
              "    .dataframe tbody tr th {\n",
              "        vertical-align: top;\n",
              "    }\n",
              "\n",
              "    .dataframe thead th {\n",
              "        text-align: right;\n",
              "    }\n",
              "</style>\n",
              "<table border=\"1\" class=\"dataframe\">\n",
              "  <thead>\n",
              "    <tr style=\"text-align: right;\">\n",
              "      <th></th>\n",
              "      <th>AimsGoal</th>\n",
              "      <th>Hypothesis</th>\n",
              "      <th>Study Design</th>\n",
              "      <th>Background</th>\n",
              "    </tr>\n",
              "  </thead>\n",
              "  <tbody>\n",
              "    <tr>\n",
              "      <th>0</th>\n",
              "      <td>east end volunteer health outreach and compute...</td>\n",
              "      <td>participants through collaborative healthcare ...</td>\n",
              "      <td>consistent with a community - based participat...</td>\n",
              "      <td>at 12 % proficiency , u . s . healthcare polic...</td>\n",
              "    </tr>\n",
              "    <tr>\n",
              "      <th>1</th>\n",
              "      <td>east end consumer health outreach and computer...</td>\n",
              "      <td>participants through collaborative knowledge a...</td>\n",
              "      <td>consistent with a community - oriented partici...</td>\n",
              "      <td>at 12 % proficiency , united . s . health lite...</td>\n",
              "    </tr>\n",
              "    <tr>\n",
              "      <th>2</th>\n",
              "      <td>east coast consumer health information and com...</td>\n",
              "      <td>physicians ’ health quality research / educati...</td>\n",
              "      <td>consistent with a community - based participat...</td>\n",
              "      <td>at 12 % proficiency , u . s . health literacy ...</td>\n",
              "    </tr>\n",
              "    <tr>\n",
              "      <th>3</th>\n",
              "      <td>to end consumer health outreach and computer a...</td>\n",
              "      <td>• facilitate health policy research / developm...</td>\n",
              "      <td>consistent with a community - based participat...</td>\n",
              "      <td>at 25 % prevalence , u . s . health literacy p...</td>\n",
              "    </tr>\n",
              "    <tr>\n",
              "      <th>4</th>\n",
              "      <td>east coast through resource outreach and proje...</td>\n",
              "      <td>advocacy through health education research / a...</td>\n",
              "      <td>consistent with a community - based participat...</td>\n",
              "      <td>at 12 % proficiency , u . s . healthcare liter...</td>\n",
              "    </tr>\n",
              "    <tr>\n",
              "      <th>...</th>\n",
              "      <td>...</td>\n",
              "      <td>...</td>\n",
              "      <td>...</td>\n",
              "      <td>...</td>\n",
              "    </tr>\n",
              "    <tr>\n",
              "      <th>684</th>\n",
              "      <td>lgbtq youth - serving organizations : annual r...</td>\n",
              "      <td>what are the organizational and evidence - gat...</td>\n",
              "      <td>over the previous decade ( beginning in the su...</td>\n",
              "      <td>significance beginning in the 1980s , two tren...</td>\n",
              "    </tr>\n",
              "    <tr>\n",
              "      <th>685</th>\n",
              "      <td>lgbtq youth - serving organizations : national...</td>\n",
              "      <td>what are the research and outcomes - related o...</td>\n",
              "      <td>over the previous year ( beginning in the summ...</td>\n",
              "      <td>significance beginning in the 1980s , two tren...</td>\n",
              "    </tr>\n",
              "    <tr>\n",
              "      <th>686</th>\n",
              "      <td>lgbtq youth - serving organization : recruitme...</td>\n",
              "      <td>what are the positive and self - documented im...</td>\n",
              "      <td>over the previous year ( beginning in the fall...</td>\n",
              "      <td>starting beginning in the 1990s , emerging tre...</td>\n",
              "    </tr>\n",
              "    <tr>\n",
              "      <th>687</th>\n",
              "      <td>lgbtq youth - serving organization : initial n...</td>\n",
              "      <td>what are the goals and advocacy - oriented obj...</td>\n",
              "      <td>over the past year ( beginning in the summer o...</td>\n",
              "      <td>significance beginning in the 1980s , two tren...</td>\n",
              "    </tr>\n",
              "    <tr>\n",
              "      <th>688</th>\n",
              "      <td>lgbtq youth - serving organisations : national...</td>\n",
              "      <td>what are the evaluation and policy - related i...</td>\n",
              "      <td>over the past year ( beginning in the summer o...</td>\n",
              "      <td>significance beginning in the 1980s , two tren...</td>\n",
              "    </tr>\n",
              "  </tbody>\n",
              "</table>\n",
              "<p>689 rows × 4 columns</p>\n",
              "</div>"
            ],
            "text/plain": [
              "                                              AimsGoal  ...                                         Background\n",
              "0    east end volunteer health outreach and compute...  ...  at 12 % proficiency , u . s . healthcare polic...\n",
              "1    east end consumer health outreach and computer...  ...  at 12 % proficiency , united . s . health lite...\n",
              "2    east coast consumer health information and com...  ...  at 12 % proficiency , u . s . health literacy ...\n",
              "3    to end consumer health outreach and computer a...  ...  at 25 % prevalence , u . s . health literacy p...\n",
              "4    east coast through resource outreach and proje...  ...  at 12 % proficiency , u . s . healthcare liter...\n",
              "..                                                 ...  ...                                                ...\n",
              "684  lgbtq youth - serving organizations : annual r...  ...  significance beginning in the 1980s , two tren...\n",
              "685  lgbtq youth - serving organizations : national...  ...  significance beginning in the 1980s , two tren...\n",
              "686  lgbtq youth - serving organization : recruitme...  ...  starting beginning in the 1990s , emerging tre...\n",
              "687  lgbtq youth - serving organization : initial n...  ...  significance beginning in the 1980s , two tren...\n",
              "688  lgbtq youth - serving organisations : national...  ...  significance beginning in the 1980s , two tren...\n",
              "\n",
              "[689 rows x 4 columns]"
            ]
          },
          "metadata": {
            "tags": []
          },
          "execution_count": 22
        }
      ]
    },
    {
      "cell_type": "code",
      "metadata": {
        "id": "n6b3Baj7_tWC",
        "colab_type": "code",
        "colab": {}
      },
      "source": [
        "augdf0_t['Class']=0\n",
        "augdf1_t['Class']=1\n",
        "augdf2_t['Class']=2\n",
        "augdf3_t['Class']=3\n",
        "augdf4_t['Class']=4\n",
        "augdf5_t['Class']=5\n"
      ],
      "execution_count": null,
      "outputs": []
    },
    {
      "cell_type": "code",
      "metadata": {
        "id": "Ej96MyK9DGfR",
        "colab_type": "code",
        "colab": {
          "base_uri": "https://localhost:8080/",
          "height": 705
        },
        "outputId": "d650d1ed-c2b1-4fdd-f551-6f200639439f"
      },
      "source": [
        "augdf2_t"
      ],
      "execution_count": null,
      "outputs": [
        {
          "output_type": "execute_result",
          "data": {
            "text/html": [
              "<div>\n",
              "<style scoped>\n",
              "    .dataframe tbody tr th:only-of-type {\n",
              "        vertical-align: middle;\n",
              "    }\n",
              "\n",
              "    .dataframe tbody tr th {\n",
              "        vertical-align: top;\n",
              "    }\n",
              "\n",
              "    .dataframe thead th {\n",
              "        text-align: right;\n",
              "    }\n",
              "</style>\n",
              "<table border=\"1\" class=\"dataframe\">\n",
              "  <thead>\n",
              "    <tr style=\"text-align: right;\">\n",
              "      <th></th>\n",
              "      <th>AimsGoal</th>\n",
              "      <th>Hypothesis</th>\n",
              "      <th>Study Design</th>\n",
              "      <th>Background</th>\n",
              "      <th>Class</th>\n",
              "    </tr>\n",
              "  </thead>\n",
              "  <tbody>\n",
              "    <tr>\n",
              "      <th>0</th>\n",
              "      <td>an exploration of patterns of dental healthcar...</td>\n",
              "      <td>oral hygiene : what are the sources and facili...</td>\n",
              "      <td>this is an exploratory study that involves ana...</td>\n",
              "      <td>oral health is an integral aspect of overall h...</td>\n",
              "      <td>2</td>\n",
              "    </tr>\n",
              "    <tr>\n",
              "      <th>1</th>\n",
              "      <td>an exploration of patterns of tooth care utili...</td>\n",
              "      <td>these are : what are the targets and facilitat...</td>\n",
              "      <td>this is an exploratory approach that enables a...</td>\n",
              "      <td>oral health is an integral aspect of overall h...</td>\n",
              "      <td>2</td>\n",
              "    </tr>\n",
              "    <tr>\n",
              "      <th>2</th>\n",
              "      <td>characteristics of effective communication abo...</td>\n",
              "      <td>the proposed program will execute and conduct ...</td>\n",
              "      <td>participants will be recruited from a group of...</td>\n",
              "      <td>a 2010 surgeon association ' s report found si...</td>\n",
              "      <td>2</td>\n",
              "    </tr>\n",
              "    <tr>\n",
              "      <th>3</th>\n",
              "      <td>characteristics of effective communication abo...</td>\n",
              "      <td>the proposed project will collect and analyze ...</td>\n",
              "      <td>participants will be recruited from a total of...</td>\n",
              "      <td>a 2001 attorney general ' s report showed fewe...</td>\n",
              "      <td>2</td>\n",
              "    </tr>\n",
              "    <tr>\n",
              "      <th>4</th>\n",
              "      <td>motivation and inhibition in the adolescent br...</td>\n",
              "      <td>risky behavior has been interpreted as reflect...</td>\n",
              "      <td>also see attached \" research protocol \" for fu...</td>\n",
              "      <td>impulsivity : a neurobiologically - derived re...</td>\n",
              "      <td>2</td>\n",
              "    </tr>\n",
              "    <tr>\n",
              "      <th>5</th>\n",
              "      <td>motivation and inhibition in the annual brain ...</td>\n",
              "      <td>risky behavior has been identified as reflecti...</td>\n",
              "      <td>please see attached \" research protocols \" for...</td>\n",
              "      <td>impulsivity : a neurobiologically - derived re...</td>\n",
              "      <td>2</td>\n",
              "    </tr>\n",
              "    <tr>\n",
              "      <th>6</th>\n",
              "      <td>hcv patient registry , the hcv treatment team ...</td>\n",
              "      <td>to create a database of cases with hcv patient...</td>\n",
              "      <td>this protocol is to create a registry to provi...</td>\n",
              "      <td>the development of all oral direct antibody an...</td>\n",
              "      <td>2</td>\n",
              "    </tr>\n",
              "    <tr>\n",
              "      <th>7</th>\n",
              "      <td>hcv treatment registry , the hcv treatment tea...</td>\n",
              "      <td>to generate a database of individuals with hcv...</td>\n",
              "      <td>this protocol is to create a registry to allow...</td>\n",
              "      <td>the development of all oral - acting antiviral...</td>\n",
              "      <td>2</td>\n",
              "    </tr>\n",
              "    <tr>\n",
              "      <th>8</th>\n",
              "      <td>the vaginal microbiome : disease , nutrition ,...</td>\n",
              "      <td>theory 1 . a womans hiv infection significantl...</td>\n",
              "      <td>all subjects will be examined by a research as...</td>\n",
              "      <td>ecology of the vaginal microflora in the 1870s...</td>\n",
              "      <td>2</td>\n",
              "    </tr>\n",
              "    <tr>\n",
              "      <th>9</th>\n",
              "      <td>the vaginal microbiome : disease , genetics , ...</td>\n",
              "      <td>theory 1 . a womans genetic disorder significa...</td>\n",
              "      <td>all subjects will be greeted by a research coo...</td>\n",
              "      <td>discovery of the vaginal microflora in the 187...</td>\n",
              "      <td>2</td>\n",
              "    </tr>\n",
              "    <tr>\n",
              "      <th>10</th>\n",
              "      <td>media framing and the \" media queen \" stereoty...</td>\n",
              "      <td>the hypotheses of this proposed study aim to a...</td>\n",
              "      <td>this study will incorporate a pretest , post t...</td>\n",
              "      <td>according to the national center for health in...</td>\n",
              "      <td>2</td>\n",
              "    </tr>\n",
              "    <tr>\n",
              "      <th>11</th>\n",
              "      <td>media framing and the \" welfare queen \" stereo...</td>\n",
              "      <td>the hypotheses of this proposed study seek to ...</td>\n",
              "      <td>this program will incorporate a pretest , post...</td>\n",
              "      <td>similarly to the national institute for health...</td>\n",
              "      <td>2</td>\n",
              "    </tr>\n",
              "    <tr>\n",
              "      <th>12</th>\n",
              "      <td>sensor - augmented sleep hygiene ( sash ) trai...</td>\n",
              "      <td>research designthis pilot study will assess th...</td>\n",
              "      <td>subjects and power analysis this is a pilot st...</td>\n",
              "      <td>autism developmental disorder ( asd ) has reac...</td>\n",
              "      <td>2</td>\n",
              "    </tr>\n",
              "    <tr>\n",
              "      <th>13</th>\n",
              "      <td>sensor - augmented sleep hygiene ( sash ) trai...</td>\n",
              "      <td>research designthis pilot study will assess th...</td>\n",
              "      <td>subjects and power analysis this is a pilot st...</td>\n",
              "      <td>autism spectrum disorder ( asd ) has reached s...</td>\n",
              "      <td>2</td>\n",
              "    </tr>\n",
              "    <tr>\n",
              "      <th>14</th>\n",
              "      <td>level of independence for students and adolesc...</td>\n",
              "      <td>are individuals with disabilities more likely ...</td>\n",
              "      <td>type : survey study filled out by parent / par...</td>\n",
              "      <td>many architects claim than certain architectur...</td>\n",
              "      <td>2</td>\n",
              "    </tr>\n",
              "    <tr>\n",
              "      <th>15</th>\n",
              "      <td>regardless of independence for children and ad...</td>\n",
              "      <td>are students with disability more independent ...</td>\n",
              "      <td>category : survey study filled out by parent /...</td>\n",
              "      <td>some researchers claim than certain architectu...</td>\n",
              "      <td>2</td>\n",
              "    </tr>\n",
              "    <tr>\n",
              "      <th>16</th>\n",
              "      <td>community engagement education program - 2 , a...</td>\n",
              "      <td>all - access engagement program - 2a ( ceep - ...</td>\n",
              "      <td>i . project recruitment the setting for this p...</td>\n",
              "      <td>background despite recent advances in cancer s...</td>\n",
              "      <td>2</td>\n",
              "    </tr>\n",
              "    <tr>\n",
              "      <th>17</th>\n",
              "      <td>patient engagement education phase - 2 , all s...</td>\n",
              "      <td>all patient education engagement lab - 2a ( ce...</td>\n",
              "      <td>i . project setting the setting for this proje...</td>\n",
              "      <td>background despite continued efforts in cancer...</td>\n",
              "      <td>2</td>\n",
              "    </tr>\n",
              "    <tr>\n",
              "      <th>18</th>\n",
              "      <td>developmental relations between language abili...</td>\n",
              "      <td>this study is a collaborative study to explore...</td>\n",
              "      <td>during year 1 the pi will recruit the first co...</td>\n",
              "      <td>verbal deficits are highly prevalent in childr...</td>\n",
              "      <td>2</td>\n",
              "    </tr>\n",
              "    <tr>\n",
              "      <th>19</th>\n",
              "      <td>regarding relations between language ability a...</td>\n",
              "      <td>this study is a longitudinal investigation to ...</td>\n",
              "      <td>during year 1 the pi will recruit the first co...</td>\n",
              "      <td>language deficits are highly prevalent in chil...</td>\n",
              "      <td>2</td>\n",
              "    </tr>\n",
              "    <tr>\n",
              "      <th>20</th>\n",
              "      <td>assessment of health outcomes : a community sc...</td>\n",
              "      <td>cancer is a difficult disease - - difficult to...</td>\n",
              "      <td>focus groups will be paired with different pop...</td>\n",
              "      <td>there is a major cancer problem in virginia , ...</td>\n",
              "      <td>2</td>\n",
              "    </tr>\n",
              "    <tr>\n",
              "      <th>21</th>\n",
              "      <td>assessment of health outcomes : a community ba...</td>\n",
              "      <td>cancer is a difficult disease - - difficult to...</td>\n",
              "      <td>focus studies will be conducted with two popul...</td>\n",
              "      <td>cancer is a significant health problem in virg...</td>\n",
              "      <td>2</td>\n",
              "    </tr>\n",
              "  </tbody>\n",
              "</table>\n",
              "</div>"
            ],
            "text/plain": [
              "                                             AimsGoal  ... Class\n",
              "0   an exploration of patterns of dental healthcar...  ...     2\n",
              "1   an exploration of patterns of tooth care utili...  ...     2\n",
              "2   characteristics of effective communication abo...  ...     2\n",
              "3   characteristics of effective communication abo...  ...     2\n",
              "4   motivation and inhibition in the adolescent br...  ...     2\n",
              "5   motivation and inhibition in the annual brain ...  ...     2\n",
              "6   hcv patient registry , the hcv treatment team ...  ...     2\n",
              "7   hcv treatment registry , the hcv treatment tea...  ...     2\n",
              "8   the vaginal microbiome : disease , nutrition ,...  ...     2\n",
              "9   the vaginal microbiome : disease , genetics , ...  ...     2\n",
              "10  media framing and the \" media queen \" stereoty...  ...     2\n",
              "11  media framing and the \" welfare queen \" stereo...  ...     2\n",
              "12  sensor - augmented sleep hygiene ( sash ) trai...  ...     2\n",
              "13  sensor - augmented sleep hygiene ( sash ) trai...  ...     2\n",
              "14  level of independence for students and adolesc...  ...     2\n",
              "15  regardless of independence for children and ad...  ...     2\n",
              "16  community engagement education program - 2 , a...  ...     2\n",
              "17  patient engagement education phase - 2 , all s...  ...     2\n",
              "18  developmental relations between language abili...  ...     2\n",
              "19  regarding relations between language ability a...  ...     2\n",
              "20  assessment of health outcomes : a community sc...  ...     2\n",
              "21  assessment of health outcomes : a community ba...  ...     2\n",
              "\n",
              "[22 rows x 5 columns]"
            ]
          },
          "metadata": {
            "tags": []
          },
          "execution_count": 66
        }
      ]
    },
    {
      "cell_type": "code",
      "metadata": {
        "id": "cc_kVuLbt2ta",
        "colab_type": "code",
        "colab": {
          "base_uri": "https://localhost:8080/",
          "height": 419
        },
        "outputId": "a58a6b89-5992-4519-f114-68eddc419f97"
      },
      "source": [
        "training_df = pd.concat([augdf0_t, augdf1_t,augdf2_t,augdf3_t,augdf4_t,augdf5_t], axis=0, sort=False)\n",
        "training_df =training_df.fillna(\"\")\n",
        "training_df"
      ],
      "execution_count": null,
      "outputs": [
        {
          "output_type": "execute_result",
          "data": {
            "text/html": [
              "<div>\n",
              "<style scoped>\n",
              "    .dataframe tbody tr th:only-of-type {\n",
              "        vertical-align: middle;\n",
              "    }\n",
              "\n",
              "    .dataframe tbody tr th {\n",
              "        vertical-align: top;\n",
              "    }\n",
              "\n",
              "    .dataframe thead th {\n",
              "        text-align: right;\n",
              "    }\n",
              "</style>\n",
              "<table border=\"1\" class=\"dataframe\">\n",
              "  <thead>\n",
              "    <tr style=\"text-align: right;\">\n",
              "      <th></th>\n",
              "      <th>AimsGoal</th>\n",
              "      <th>Hypothesis</th>\n",
              "      <th>Study Design</th>\n",
              "      <th>Background</th>\n",
              "      <th>Class</th>\n",
              "    </tr>\n",
              "  </thead>\n",
              "  <tbody>\n",
              "    <tr>\n",
              "      <th>0</th>\n",
              "      <td>identifying and prioritizing patients recruitm...</td>\n",
              "      <td>the main objective of this joint feasibility a...</td>\n",
              "      <td>design overview : pilot feasibility test sampl...</td>\n",
              "      <td>total knee replacement ( tkr ) surgery is cons...</td>\n",
              "      <td>0</td>\n",
              "    </tr>\n",
              "    <tr>\n",
              "      <th>1</th>\n",
              "      <td>identifying and prioritizing recruiting goals ...</td>\n",
              "      <td>the main goal of this comprehensive joint asse...</td>\n",
              "      <td>design overview : pilot feasibility study samp...</td>\n",
              "      <td>chronic knee replacement ( tkr ) surgery is pr...</td>\n",
              "      <td>0</td>\n",
              "    </tr>\n",
              "    <tr>\n",
              "      <th>2</th>\n",
              "      <td>identifying and prioritizing patient goals bef...</td>\n",
              "      <td>the primary objective of this clinical feasibi...</td>\n",
              "      <td>design overview : feasibility study study samp...</td>\n",
              "      <td>total knee replacement ( tkr ) operation is co...</td>\n",
              "      <td>0</td>\n",
              "    </tr>\n",
              "    <tr>\n",
              "      <th>3</th>\n",
              "      <td>identifying and prioritizing patient goals bef...</td>\n",
              "      <td>the primary objective of this clinical case an...</td>\n",
              "      <td>design overview : initial clinical study sampl...</td>\n",
              "      <td>total hip replacement ( tkr ) surgery is consi...</td>\n",
              "      <td>0</td>\n",
              "    </tr>\n",
              "    <tr>\n",
              "      <th>4</th>\n",
              "      <td>identifying and prioritizing patient goals bef...</td>\n",
              "      <td>the ultimate objective of this joint feasibili...</td>\n",
              "      <td>design overview : pilot feasibility study samp...</td>\n",
              "      <td>total knee replacement ( tkr ) surgery is cons...</td>\n",
              "      <td>0</td>\n",
              "    </tr>\n",
              "    <tr>\n",
              "      <th>...</th>\n",
              "      <td>...</td>\n",
              "      <td>...</td>\n",
              "      <td>...</td>\n",
              "      <td>...</td>\n",
              "      <td>...</td>\n",
              "    </tr>\n",
              "    <tr>\n",
              "      <th>684</th>\n",
              "      <td>lgbtq youth - serving organizations : annual r...</td>\n",
              "      <td>what are the organizational and evidence - gat...</td>\n",
              "      <td>over the previous decade ( beginning in the su...</td>\n",
              "      <td>significance beginning in the 1980s , two tren...</td>\n",
              "      <td>5</td>\n",
              "    </tr>\n",
              "    <tr>\n",
              "      <th>685</th>\n",
              "      <td>lgbtq youth - serving organizations : national...</td>\n",
              "      <td>what are the research and outcomes - related o...</td>\n",
              "      <td>over the previous year ( beginning in the summ...</td>\n",
              "      <td>significance beginning in the 1980s , two tren...</td>\n",
              "      <td>5</td>\n",
              "    </tr>\n",
              "    <tr>\n",
              "      <th>686</th>\n",
              "      <td>lgbtq youth - serving organization : recruitme...</td>\n",
              "      <td>what are the positive and self - documented im...</td>\n",
              "      <td>over the previous year ( beginning in the fall...</td>\n",
              "      <td>starting beginning in the 1990s , emerging tre...</td>\n",
              "      <td>5</td>\n",
              "    </tr>\n",
              "    <tr>\n",
              "      <th>687</th>\n",
              "      <td>lgbtq youth - serving organization : initial n...</td>\n",
              "      <td>what are the goals and advocacy - oriented obj...</td>\n",
              "      <td>over the past year ( beginning in the summer o...</td>\n",
              "      <td>significance beginning in the 1980s , two tren...</td>\n",
              "      <td>5</td>\n",
              "    </tr>\n",
              "    <tr>\n",
              "      <th>688</th>\n",
              "      <td>lgbtq youth - serving organisations : national...</td>\n",
              "      <td>what are the evaluation and policy - related i...</td>\n",
              "      <td>over the past year ( beginning in the summer o...</td>\n",
              "      <td>significance beginning in the 1980s , two tren...</td>\n",
              "      <td>5</td>\n",
              "    </tr>\n",
              "  </tbody>\n",
              "</table>\n",
              "<p>6796 rows × 5 columns</p>\n",
              "</div>"
            ],
            "text/plain": [
              "                                              AimsGoal  ... Class\n",
              "0    identifying and prioritizing patients recruitm...  ...     0\n",
              "1    identifying and prioritizing recruiting goals ...  ...     0\n",
              "2    identifying and prioritizing patient goals bef...  ...     0\n",
              "3    identifying and prioritizing patient goals bef...  ...     0\n",
              "4    identifying and prioritizing patient goals bef...  ...     0\n",
              "..                                                 ...  ...   ...\n",
              "684  lgbtq youth - serving organizations : annual r...  ...     5\n",
              "685  lgbtq youth - serving organizations : national...  ...     5\n",
              "686  lgbtq youth - serving organization : recruitme...  ...     5\n",
              "687  lgbtq youth - serving organization : initial n...  ...     5\n",
              "688  lgbtq youth - serving organisations : national...  ...     5\n",
              "\n",
              "[6796 rows x 5 columns]"
            ]
          },
          "metadata": {
            "tags": []
          },
          "execution_count": 24
        }
      ]
    },
    {
      "cell_type": "code",
      "metadata": {
        "id": "qlyz17mJfEM4",
        "colab_type": "code",
        "colab": {
          "base_uri": "https://localhost:8080/",
          "height": 156
        },
        "outputId": "9f199c2c-ca38-47d6-9464-ca45968d79c2"
      },
      "source": [
        "for sent in train_df[:7]:\n",
        "  print(sent)"
      ],
      "execution_count": null,
      "outputs": [
        {
          "output_type": "stream",
          "text": [
            "Multifaceted Program to Improve CF Outcomes , Local (and not generalizable) knowledge of how to improve quality of patient care, improve FEV1 and BMI , All persons will be informed at regular CF clinic meetings. , , The study's goals are to improve the average lung function of adults and children cared for at VCU to rise above the average of the CF care center network by the end of 3 years and to attain the 75th percentile within 5 years. Second, to improve the average BMI of adults and children cared for at VCU to attain the 50th percentile for weight for length (children <2 years), 50th percentile for BMI (children 2-20 years) and a median of 23 for males and 22 for females by the end of 3 years.\n",
            "Community Health Educator: Promoting Cancer Education and Community Research Partnerships , All of the investigators on the study, including the Community Health Educators were involved in the development of the protocol. In addition, all additional research personnel involved in the project will be required to read and review the protocol. Weekly meetings of all personnel will be conducted throughout the project to ensure everyone is aware of progress in the protocol. , This project has the potential to develop an effective training program that can be implemented in multiple settings to reach communities with accurate information about cancer clinical research and biospecimen collection. The social networking aspect of the program has the potential to reach hard to reach populations with this information in an effective way. , 20 (10 from each locations) new Breast Health Research Champions will be recruited from the Cancer Resource and Research Center in Lawerenceville. All of the subjects will have been directly affected by cancer either as a survivor, supporter, or cancer advocate. Solicitation will be disseminated broadly among this population group through word of mouth and posting of fliers in the city of Lawerenceville, and resource centers in Richmond's East End communities selected for repeat of the training program.(See Appendix 2 for recruitment flier) Interested individuals will be directed to contact the CHE who will gather screening information and provide them further details of the study. (See Appendix 3 for script) Informed consent will be acquired in person from selected participants by the Research Assistant or designee trained in this process, prior to beginning any of the activities of the study. Secondary recruitment will be done by the Breast Health Research Champions, they will identify and contact individuals from their personal social networks to participate in their small group events. They will indicate to invitees the nature of the event, and that it is part of a research study at the time of extending the invitation. Additionally, prior to beginning the event, they will acquire verbal consent/assent from participants to their participation in the study. (See Appendix 4 for invitation script and verbal consent/assent) 20 individuals who completed the BHRC training program in 2015 will be recruited to continued providing information on their outreach activities through September 2016. , Specific Aim 1: Assess the effectiveness of using Breast Health Research Champions, made up of cancer survivors, caregivers and advocates, to bring positive breast cancer screening and breast cancer research and bio-specimen collection messages to their social networks in Petersburg. Specific Aim 1.1: Recruit 10 Breast Health Research Champions and provide education in four areas; (1) national breast health/screening guidelines, (2) use of the breast health education tool to impart positive breast health messages and local and national (NCI) breast health resource information, (3) role of breast cancer clinical trials in advancing breast cancer survivorship (4) and the role of bio-specimen acquisition in breast cancer research. Specific Aim 1.2: Evaluate knowledge acquisition, and attitudinal change in Breast Health Research Champions. Specific Aim 1.3: Evaluate effectiveness of events organized by Breast Health Research Champions, to disseminate breast and clinical trials messages and effect health behavior.Specific Aim 2: Establish consistent engagement of breast health advocates from Petersburg, Richmond, Emportia and Lawrenceville with breast cancer researchers from VCU Massey Cancer Center Specific Aim 2.1: Establish scheduled regular meetings over the course of 12 months between breast cancer researchers from VCU Massey Cancer Center and the Breast Health Research Champions who completed the first BHRC training program. Specific Aim 3: Strengthen the evidence of the effectiveness of the Breast Health Research Champion (BHRC) training program. Specific Aim 3.1: Document the outreach activities by Breast Health Research Champions trained during the first training program over 12 months after completion of training. Specific Aim 3.2: Identify additional outreach locations served by the VCU Massey Cancer Center with potential for implementation of the BHRC training program. Assess the feasibility/interest for implementation of BHRC training in these locations. Specific Aim 3.3: Adapt/implement the BHRC training program in 2 identified/interested outreach locations of the VCU Massey Cancer Center\n",
            "EFFECTS OF THE SELF- DETERMINED LEARNING MODEL OF INSTRUCTION ON GOAL ATTAINMENT AND SELF-DETERMINATION FOR STUDENTS WITH AUTISM SPECTRUM DISORDER. , The student investigator and PI will have regularly scheduled meetings by phone on the first day of each month to discussion progression of the study. The student investigator has the email address and phone number of the PI for scheduled meetings, and if any problems arise with the research. The student investigator and research assistant are responsible for the research related duties and functions. , By examining evidence and research-based practices for students with disabilities, researchers can identify how effective strategies can be implemented in the future for students with autism. In a recent study of the relationship between self-determination and postschool outcomes using a large sample size (712) of students with disabilities, education in self-determination lead to better outcomes in employment and community access. The study measured participants over a period of two school years and evaluated the efficacy of the SDLMI and other interventions in secondary education (Shogren, Wehmeyer, Plamer, Rifenbark & Little, 2015). Participants were initially acquired for a longitudinal study measuring self-determination and the impact of interventions in postsecondary education, and then again for postschool outcomes (Wehmeyer et al., 2012; Wehmeyer et al., 2013). The relationship between self-determined behavior one year after exiting revealed self-determination impacts adult outcomes. Limitations were largely the lack of effective evaluation of postsecondary education, limited understanding of how education affected employment outcomes and no outcome information about peers who did not participate in the intervention research (Shogren et al., 2015). The effect of the SDLMI on academic and transition goal attainment and access to general education curriculum in a large sample of students with learning and intellectual disabilities, indicated the intervention had significant impacts on goal attainment (Wehmeyer, Shogren, Palmer, William-Diehm, Little, & Boulton, 2012). In an efficacy study of the impact of the SDLMI on student self-determination, higher levels of self-determination were indicated after exposure to the SDLMI intervention. the sample consisted of high school students with intellectual disabilities in a group randomized, control group experiment, and measured the impact between groups from years 1 and 2 (Wehmeyer et al., 2012). The effect of the model on access to the general education curriculum and academic and transition goal attainment for a large sample of students with learning and intellectual disabilities, indicated self-determination had a significant impact on goal attainment as measured by the Goal Attainment Scale (GAS) (Shogren, Palmer, Wehmeyer, William Diehm, & Little, 2012). Shogren and colleagues also evaluated teacher perceptions for students capacity using the SDLMI model. They found that when teachers are supported with implementation of the model, significant increases in teacher perception of student capacity and self-determination were present (Shogren, Wehmeyer, Palmer, Plotme, & Paek, 2014). Summary descriptions of the SDLMI studies reviewed here and accompanying results are in the attached table titled Literature Review Results. Continued education and employment are typical next steps after high school, however students with autism have low participation in both activities (Shattuck, Narendorf et al., 2012; Newman et al., 2011; Hendricks & Wehman, 2009) even with secondary programming in place for students with disabilities and legislative mandates to proactively address activities after high school. By 2018, roughly two-thirds of all employment with require some level of college education (Carnevale, Smith, & Strohl, 2010). The U.S. Department of Education (2016) indicates nearly 60% of students with disabilities who attend postsecondary institutions, attend community colleges in two-year programs or less than two years (degree-seeking or non-degree seeking). Enrollment in a community college often does not lead to a degree indicated by Bailey and colleagues (2006). Using the Integrated Postsecondary Education Data System, between 10- 30% of community college students earned degrees (Bailey et al., 2006). Many students enroll in community colleges intend to learn a skill, not may not peruse obtaining a degree. Students with disabilities, and more specifically autism, may require additional time to develop vocational skills and interact with others in an educational setting to become more independent and responsible in determining their own learning course (Alpern, 2007). Long-term success for students with disabilities is influenced by enrollment in, and completion of, a postsecondary education program (Newman et al., 2011). In a study on academic coaching and self-regulation for students with disabilities, students self-reported and identified having someone to talk to, time management, and study strategies, for reasons to attend coaching sessions to identify their focus of need, support and strategies for problem solving, and helping them identify resources and develop action plans (Mitchell & Gansemer-Top, 2016). Curriculum courses provide opportunities for career exploration and development, and inclusion in an educational setting with same-age peers to facilitate social and behavioral skills. Curriculum and continuing education programs prepare individuals for employment and assist in development of skills for personal and community enrichment, and workforce development. Technical and vocational programs encourage the use of hands-on learning and services aimed at the attainment of occupational skills sets in identified areas of instruction, such as information technologies. Many technical and vocational departments implement the use of practical education, modern technologies, and career training to gain work experience in different career tracks, fields, industries, and trades. Autism- Specific Supports in Postsecondary EducationAutism support in postsecondary education is similar to supported employment for individuals with disabilities. In supported employment, individuals with disabilities require and receive ongoing support to perform their job duties, and in the case of postsecondary education, individuals receive supports to create and perform steps and responsibilities to attain educational goals. Just as supported employment creates an inclusive employment opportunity for people with disabilities to earn competitive pay for real work; postsecondary education with autism-specific supports provides continuous postsecondary assistance for inclusive educational opportunities to prepare for employment. Supported employment has shown significant effects for improvement in acquisition of entry-level jobs and increases in income for people with disabilities (Wehman, et al., 2012). Postsecondary education with autism supports including self-determination curriculum, has the potential to parallel this process in higher educational environments to prepare for employment. Intervention implemented in postsecondary course settings using the SDLMI to guide instructional strategies will increase vocational self-determination and subsequent goal attainment through goal setting, constructing a learning plan, and adjusting behaviors to meet the goal. The student will self-monitor their own learning using goal attainment scaling. Factors related to self-determination, motivation, behavior, autism challenges, and support intensity will be examined during the intervention. ]. Determining how students with disabilities benefit from these identified strategies in postsecondary education provides an area of research to determine if a connection can also be made to students with autism spectrum disorders. Occupational and vocational courses are established as research-based practices for students with disabilities, and work-based learning through community-based instruction (Test et al., 2009). More research is needed to tie the strategies together in student-focused planning and self-determination of postsecondary goals. More intervention research identifying strategies that are associated with improved outcomes and causal relationships would be valuable in replication of current intervention studies in postsecondary educational settings. Available supports for students with disabilities in PSE are limited to accommodations that cause undue hardships to the institution, such as the assistance of a human aide. With the development of self-determined behaviors, students with autism may be able to more independently focus on their future goals and objectives through setting goals and self-monitoring, decreasing the need for human aide in classroom settings. Perhaps there is an accommodation between human aide and no support in class that would allow colleges to address the characteristics of autism as they relate to non-academic areas of instruction during the instruction and completion of assignment in academic and vocational areas. There needs to be increased evidence to show that self-determination increases postsecondary outcomes; the purpose of this study is to determine if self-determination instruction improves vocational and academic goal attainment and self-determined behavior, while decreasing support needs for this specific group of students with autism attending higher education courses. Measurement of intrinsic motivation and self-reported task evaluation has the potential to strengthen the outcomes of the intervention. The SDLMI intervention has not been used in higher education, and this study examines the effects in the community college setting. Even though the SDLMI studies reviewed here use similar dependent measures between such as GAS (Shogren et al., 2012; Lee et al., 2008; McLashing- Johnson et al., 2003; Agran, Blanchard, & Wehmeyer, 2000; Wehmeyer et al., 2000) and percentage data (Agran et al., 2010; Agran et al., 2006; Benitez et al., 2005; McLashing-Johnson et al., 2003; Agran, Blanchard, & Wehmeyer, 2000) participant characteristics and tasks significantly varied across research studies, making it difficult to compare results. The current study provides descriptive background data, individualized education information, and psychological evaluations; allowing extensive comparisons between participants. They represent a wide range of skills and abilities, strengthening sample variability, whereas other studies using this intervention did not provide consistent reporting of participant characteristics and relied heavily on students of the same disability categories to have greater generalizability. Transition goals have been the focus of research using the SDLMI (Shogren et al., 2013; Shogren et al, 2012; Finn et al., 2008; McLashing-Johnson, 2003; Agran, Blanchard, & Wehmeyer, 2000) and the current study will provide increased research in postsecondary settings for students with autism spectrum disorder. , Student participants receive educational support at a community college from the researcher and research assistant. The potential participants have established relationships with the researcher and research assistant through the support services non-profit organization. If the selected participants do not want to participate in the dissertation research, there are other students who would possibly be willing, so there is not pressure to participate. Participants' professors for the interviews will be approached in person, and reminded through email if they would like to participate in questions regarding student achievement in their courses. , The aim of the study is threefold: to increase academic and vocational goal-attainment in postsecondary settings in individual college coursework in associate, diploma, or certificate-seeking programs using the SDLMI intervention measured by achievement of independently completed task analyses percentages, increases in self-determined behaviors measured formally with a scale of self-determination consistent with SDLMI literature (Shogren et al., 2013; Lee et al., 2008; Wehmeyer, Palmer et al., 2000), and decreased support needs assessed by pre- and post-measurement of support intensity. Support intensity measurement has previously been used for students with autism in internship placements during secondary education (Wehman, Schall, et al., 2014). The researcher will determine if the SDLMI in a higher education setting, provides a strategy to increase involvement in academic and vocational goal setting, decision-making, and attainment. Using a model of self-determination, the SDLMI, an evidence-based practice in transition literature and student development, and autism specific services and supports, the proposed study seeks to demonstrate how students with autism can create and meet self-directed goals and education-related activities through learning and utilizing self-determined behavior. The intervention includes student questions, teacher objectives, and educational supports. Evidence-based self-determination transition practices in secondary educational settings (Test et al., 2009) have the potential to benefit students with disabilities, and more specifically autism, in postsecondary education settings and self-determined attainment of goals. Factors related to self-determination and motivation in the proposed study are present in formal pre and post data collection and measurement, decreased intensity of support, and informal observations of behaviors throughout the study phases.\n",
            "Piloting a teacher-delivered model of a personality-targeted substance use prevention intervention for adolescents , Prior to the beginning of the study, a meeting will take place with the PI, Dr. Thomson (trained in the 'train-the-trainer' model of Preventure), the community partner, and all school staff involved to finalize plans for the baseline and follow-up assessments, the intervention, and discuss any issues. Following this, communication will primarily take place via email and/or phone conversations as needed, with quarterly in-person meetings scheduled. The school staff will be instructed to inform the PI of any problems with the study via email or phone. , This project aims to pilot a personality-based prevention intervention, delivered by school staff (teachers and counselors). Risky substance use among adolescents is widespread, with rates of substance use more than doubling between adolescence and young adulthood, underscoring the critical nature of this transitional period. Despite the significant rate of substance use problems in students, very few seek or receive treatment. Accordingly, effective interventions to prevent and intervene in substance use problems are needed. , Teachers will make announcements in class to inform the students about the study (see scripts for study announcement). Announcements will be made at least twice, to make sure that students who may have been absent hear about the study. All assenting students, regardless of risk status or whether they will participate in the intervention, will be assessed at baseline and followed-up at 3-, and 6-months post-intervention. Assessments will be conducted with REDCap on VCU-owned tablets in a classroom or assembly format during school hours. Responses to the Substance Use Risk Profile Scale will determine personality risk status. , The studys first aim is to test the feasibility of implementing a teacher-delivered format of Preventure using ITT principles, with previous studies showing ITT efficacy when 75% of high risk students were delivered the intervention. We aim to evaluate the resources required for this level of implementation.The studys second aim is to assess the treatment fidelity of the teacher-delivered format of Preventure using the Preventure Intervention Fidelity and Adherence (PIFA) Scale. The studys third aim consists of three sub-aims: (1) Determine the feasibility of assessing the standard primary (alcohol and drug use and misuse) and secondary (mental health symptoms) Preventure outcomes with entire 7th and 9th grade cohorts at baseline (pre-intervention) and follow-up (6- and 12-month post-intervention); (2) Determine the feasibility of assessing novel neurocognitive proximal outcomes, such as delay discounting, a transdiagnostic neurocognitive endophenotype of primary etiological significance for SUDs; and (3) Determine the estimates of recruitment, retention, and adherence for a larger and sufficiently powered NIH-funded trial, which will be the first RCT with Preventure in the United States.\n",
            "Vision 21: Linking Systems of Care for Children and Youth , Training:All pilot site staff will be required to participate in a full-day, in-person training and a half-day follow-up training administered by Vision 21: LSC project staff. During this training, Vision 21: LSC staff will discuss expectations of pilot site participation, including but not limited to: a) Vision and benefit(s) of the project,b) Purpose of the screening tool, c) How to administer and score the screening tool,d) Purpose of the training manual and how to use the training manual,e) Roles and responsibilities of pilot site staff, f) Roles and responsibilities of Vision 21: LSC project staff, g) Training and technical assistance (TTA) available to pilot sites from the Vision 21: LSC staff, andh) Human subjects protection ethical training. Because Vision 21: LSC project staff would like to receive feedback on the in-person training delivered to pilot sites, pilot site staff will be asked to complete a pre- and post-evaluation survey (Appendices A and B). Prior to the in-person training, pilot site staff will be asked to register for the in-person training via an online link. At this time, pilot site staff will also be asked to complete a brief online pre-survey (See Appendix A). In the pre-survey, pilot site staff will be asked about their (a) understanding of the Vision 21: LSC project, (b) previous training and general knowledge about victimization, and (c) organizations current screening process. In the post-survey, pilot site will be asked about their (a) understanding of the Vision 21: LSC project (including their confidence on administering the screening tool), (b) knowledge on the impact of victimization, (c) interest in training and technical assistance (TTA) from the Vision 21: LSC project staff, (d) knowledge of the ethical principles of human subjects protection and (e) feedback on how the training could be improved in the future. This post-survey will be conducted at the conclusion of the full-day training.In order to link responses between the pre and post surveys without having pilot site staff identify themselves, the first four questions of each survey will gather information that will create a code that is not personally identifiable (see Appendices A & B). The code allows responses to remain anonymous to the researchers while still being able to match surveys between pre and post administrations. A consent form for pilot site staff to include this information as part of the research is attached. Any pilot site staff who will be administering the screening tool will be required to participate in this in-person training. Pilot site staff who complete the training will receive a certificate of attendance for their participation.Communication:Communication between sites will occur primarily via email. Periodic team meetings and/or phone conversations will occur weekly. Study staff will visit the pilot sites physically once per month. , The importance of the knowledge to be gained from this study involves pinpointing specific barriers for care that may exist in communities between different sites. Further, it will develop a comprehensive victimization screen that can be used across systems so that individuals do not have to be re-screened at every agency with which they come into contact. , Participants will be recruited into the study by virtue of seeking services or being referred for services at one of the agencies participating in the study (i.e., Ready Kids, Shelter for Help in Emergency, Foothills Child Advocacy Center (CAC), Albemarle County Department of Social Services (DSS), Abuse Alternatives, Inc., Court Service Unit (CSU), Charlottesville Department of Juvenile Justice, Department of Social Services - Child Protective Services (CPS), Center for Child and Family Services -THRIVE program, Newport News Department of Human Services, Hampton Healthy Families, Alexandria Health Department Teen Wellness Center, Center for Alexandria's Children, Child Protective Services, and 18th District Juvenile & Domestic Relations Court Service Unit). No special solicitation of participants will occur outside of this regular referral flow. In order for each child, youth or transitioning adult to have an equal chance of being selected for the sample, all participants who fit the age requirement (0-21) will be eligible to be screened within the identified program within the system they are working with at the time of screening. They must also be entering the respective system via court order, referral, or walk-in.Foster care children/youth are not eligible to participate in the Vision 21: LSC study. Therefore, each participating study site must exclude foster care children/youth from screening. The local Department of Social Services cannot be engaged in human subjects research and provide permission for foster care children/youth to participate in the research. Similarly, children/youth in detention facilities who are in the custody of the state are also excluded from this study. , The pilot phase of the Vision 21: LSC project focuses on assessing three key components: (a) In-person training module, (b) Screening tool, and (c) Training Manual. Below is a list of questions for each these three areas of interest. Part I. In-person training module 1. Does the in-person training provide adequate instruction for administering the screening tool?Part II. Screening Tool (i.e., Virginia Victimization Screen)2. How many children or youth were offered the screening tool?a. Of these children and youth, how many were screened?3. To what extent, does the Virginia Victimization Screenàa. Identify childhood and youth exposure to crime/victimization?b. Identify behaviors and symptoms a child/youth may be currently experiencing (within the last 30 days)?c. Identify protective factors available to children and youth who have been screened? 4. Of those screened, how many children or youthàa. Did not receive an intervention and/or referral (i.e., screened negative)?b. Did receive an intervention and/or referral (i.e., screened positive)?5. Of those who screened positive, a. How many interventions were recommended by the screening agency (i.e., same organization)? i. What types of interventions were provided? ii. Were interventions accepted or declined? iii. Did the child/youth being screened keep his/her appointment for additional services?b. How many referrals for additional services or interventions were made (i.e., outside the originating agency)? i. What types of referrals were made? ii. Where these referrals accepted or declined?6. From the perspective of those who administer the screening tool, what are the strengths and challenges of the piloting process?7. From the perspective of those who administer the screening tool, what are the strengths and challenges of the screening tool?8. To what extent does the screening tool adequately assess a. victimization among children/youth and b. feelings and behaviors children/youth are currently experiencing Part III. Training Manual 9. Does the training manual provide adequate instruction for administering the Virginia Victimization Screen?10. Were the resources mentioned in the training manual beneficial to providing adequate intervention for children/youth who screen positive Virginia Victimization Screen?\n",
            "Disclosure, socialization, and sex behaviors , The project will be a collaboration between the PI, co-PI, and the research team. All study personnel have completed and passed CITI training. Bi-weekly meetings will be held between member of the research team to insure all study personnel are informed about the protocol and their research-related duties and functions. Additional communications will occur via e-mail or phone. , Given the previously explored risks associated with incongruent sexual identity and same sex attraction or behaviors (e.g., suicidality, substance abuse, etc.), findings from this study could shed light on an important population that has been traditionally overlooked in the literature. By breaking down and examining pathways of sexual identity exploration, communication/disclosure, and self-efficacy, findings could greatly contribute to understanding of how social groups impact sexual health, as well as identify ways by which individuals engage in risk behaviors. , Recruitment is conducted completely through the SONA system. A brief description of study aims and the credit incentive will be listed in the SONA description for the study. Since psychology department students are already familiar with the SONA system, no outside advertisement will be needed for the recruitment. , The study has three primary aims: 1.) To investigate the relationship between sexual communication and disclosure practices, sexual self-efficacy, and sexual health behaviors and knowledge among individuals who experience same-sex attraction, 2.) To examine how attitudes about bisexuality affect sexual health practices and sexual disclosure, 3.) To determine if discrepancies between same-sex attraction and previous sexual history predict present sexual self-efficacy attitudes.\n",
            "MERC School Based Action Research Teams for Culturally Responsive Teaching , , One promising approach for addressing a broad range of disparities in educational outcomes across groups is the use of culturally responsive teaching (CRT) strategies that forefront student culture in the development of curriculum and delivery of instruction. Culturally responsive teachers view students cultural differences as assets in the learning process, rather than deficits that must be overcome as all students assimilate to the dominant culture (Gay, 2013). When teachers are well-equipped to foster inclusive and equitable classrooms, students from marginalized backgrounds show higher rates of academic achievement, motivation, self-confidence, and self-efficacy (Ladson-Billings, 1995; Dee & Penner, 2017 and Cabrera, Milem, Jaquette, & Marx, 2014). A recent systematic literature review of 37 independent studies that examined the student impacts of culturally relevant education (CRE) found that CRE can boost academic achievement (Aronson & Laughter, 2016). However, studies of the use of CRT in PK12 schools have shown that teacher confidence and skill in this approach is low (Lee, Luykx, Buxton, & Shaver, 2007), and that integration into the teaching and learning practices with schools is not widespread (Baeder, 2010; Yuan, 2010). Professional development (PD) for teachers and other school-based practitioners is a key lever for supporting schools as they promote CRT. This is especially true when considering the growing cultural mismatch between a diversifying student population and a teaching force that remains predominantly White and female (Villegas, Strom, & Lucas, 2012). Thus, the purpose of this exploratory study is to support the iterative development of a networked action research PD model designed to promote teachers ability to implement culturally responsive teaching in their classes. This project will contribute to the scientific knowledge base related to the following domains-Clearer understanding of what CRT looks like in classrooms and what practices constitute CRT.-Knowledge of how teachers develop CRT -Knowledge of how action research specifically helps teachers develop CRT-Evidence that stronger CRT enhances student outcomes-Understanding of how unique school and classroom contexts shape teachers' use of CRT, and professional growth in that area , Educator participants will be selected through the application process described in the prior section. The PIs will recruit participants by asking school principals to email a recruitment flyer to their whole staff and by delivering a presentation about the program to the whole school staff (see recruitment script). Potential participants will email the project PIs with any questions. Selection of participants will be conducted within one to two weeks after the application deadline. The PIs will select participants in consultation with the school administrators in order to ensure diversity of participants in terms of school subject taught, grade, teaching experience, and level of knowledge of CRT. , Specific Aim 1: Iteratively develop a PD model for CRT through an action research process that engages the perspectives of key stakeholders from HCPS and CCPS (e.g., teachers, administrators, students, and parents). (RQ 1) How are the SBARTs implemented across school contexts? (RQ 2) How do model-based factors influence the implementation? (RQ 3) How do school-based factors influence the implementation?Specific Aim 2: Examine the relationship between participation in the PD and teachers dispositions toward and knowledge of CRT. (RQ 4) What is the relationship between participation in a SBART and the development of teacher professional disposition, knowledge and skill related to CRT?Specific Aim 3: Examine the relationship between participation in the PD and changes in teachers CRT practices. (RQ 5) What is the relationship between participation in a SBART and changes to teacher professional practices with CRT?Specific Aim 4: Examine the relationship between teacher participation in the PD model and student learning outcomes. (RQ 6) What is the relationship between teacher participation on the SBART and the the social/emotional, behavioral and academic outcomes of students in the classes where the strategies are implemented?\n"
          ],
          "name": "stdout"
        }
      ]
    },
    {
      "cell_type": "code",
      "metadata": {
        "id": "5RIZMhdDfBB_",
        "colab_type": "code",
        "colab": {
          "base_uri": "https://localhost:8080/",
          "height": 187
        },
        "outputId": "bbfbb743-c118-4efe-d160-8de19e531291"
      },
      "source": [
        "for sent in augmented_text:\n",
        "  print(sent + \",\")"
      ],
      "execution_count": null,
      "outputs": [
        {
          "output_type": "stream",
          "text": [
            "IOPub data rate exceeded.\n",
            "The notebook server will temporarily stop sending output\n",
            "to the client in order to avoid crashing it.\n",
            "To change this limit, set the config variable\n",
            "`--NotebookApp.iopub_data_rate_limit`.\n",
            "\n",
            "Current values:\n",
            "NotebookApp.iopub_data_rate_limit=1000000.0 (bytes/sec)\n",
            "NotebookApp.rate_limit_window=3.0 (secs)\n",
            "\n"
          ],
          "name": "stderr"
        }
      ]
    },
    {
      "cell_type": "code",
      "metadata": {
        "id": "fySt3CkKyB8a",
        "colab_type": "code",
        "colab": {
          "base_uri": "https://localhost:8080/",
          "height": 34
        },
        "outputId": "fbd4810f-36eb-47ff-bf42-0c6d081ddaf7"
      },
      "source": [
        "try:\n",
        "  from google.colab import files\n",
        "except ImportError:\n",
        "   pass\n",
        "else:\n",
        "  training_df.to_excel('training_df.xlsx') \n",
        "  files.download('training_df.xlsx')"
      ],
      "execution_count": null,
      "outputs": [
        {
          "output_type": "display_data",
          "data": {
            "application/javascript": [
              "\n",
              "    async function download(id, filename, size) {\n",
              "      if (!google.colab.kernel.accessAllowed) {\n",
              "        return;\n",
              "      }\n",
              "      const div = document.createElement('div');\n",
              "      const label = document.createElement('label');\n",
              "      label.textContent = `Downloading \"${filename}\": `;\n",
              "      div.appendChild(label);\n",
              "      const progress = document.createElement('progress');\n",
              "      progress.max = size;\n",
              "      div.appendChild(progress);\n",
              "      document.body.appendChild(div);\n",
              "\n",
              "      const buffers = [];\n",
              "      let downloaded = 0;\n",
              "\n",
              "      const channel = await google.colab.kernel.comms.open(id);\n",
              "      // Send a message to notify the kernel that we're ready.\n",
              "      channel.send({})\n",
              "\n",
              "      for await (const message of channel.messages) {\n",
              "        // Send a message to notify the kernel that we're ready.\n",
              "        channel.send({})\n",
              "        if (message.buffers) {\n",
              "          for (const buffer of message.buffers) {\n",
              "            buffers.push(buffer);\n",
              "            downloaded += buffer.byteLength;\n",
              "            progress.value = downloaded;\n",
              "          }\n",
              "        }\n",
              "      }\n",
              "      const blob = new Blob(buffers, {type: 'application/binary'});\n",
              "      const a = document.createElement('a');\n",
              "      a.href = window.URL.createObjectURL(blob);\n",
              "      a.download = filename;\n",
              "      div.appendChild(a);\n",
              "      a.click();\n",
              "      div.remove();\n",
              "    }\n",
              "  "
            ],
            "text/plain": [
              "<IPython.core.display.Javascript object>"
            ]
          },
          "metadata": {
            "tags": []
          }
        },
        {
          "output_type": "display_data",
          "data": {
            "application/javascript": [
              "download(\"download_67b6df01-cc2c-4694-b0de-3341ead617e5\", \"training_df.xlsx\", 13709928)"
            ],
            "text/plain": [
              "<IPython.core.display.Javascript object>"
            ]
          },
          "metadata": {
            "tags": []
          }
        }
      ]
    }
  ]
}